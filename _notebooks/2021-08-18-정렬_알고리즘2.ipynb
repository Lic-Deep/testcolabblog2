{
 "cells": [
  {
   "cell_type": "markdown",
   "source": [
    "# \"정렬 알고리즘\"\r\n",
    "> \"정렬 알고리즘 개념\"\r\n",
    "\r\n",
    "- toc: false\r\n",
    "- branch: master\r\n",
    "- badges: true\r\n",
    "- comments: true\r\n",
    "- categories: [coding, jupyter]"
   ],
   "metadata": {}
  },
  {
   "cell_type": "markdown",
   "source": [
    "# 정렬 알고리즘\r\n",
    "## 1. 기준에 따라 데이터를 정렬\r\n",
    "### 정렬 알고리즘 개요\r\n",
    "**정렬**이란 데이터를 특정한 기준에 따라서 순서대로 나열하는 것으로 선택, 삽입, 퀵, 계수 정렬등이 있다. \r\n",
    "\r\n",
    "상황에 적절하지 못한 정렬 알고리즘을 이용하면 당연히 프로그램은 비효율적으로 동작하며 필요 이상으로 시간을 많이 소요한다.\r\n",
    "\r\n",
    "그래서 정렬 알고리즘을 공부하다 보면 자연스럽게 알고리즘 효율의 중요성을 깨닫는다."
   ],
   "metadata": {}
  },
  {
   "cell_type": "markdown",
   "source": [
    "### 선택 정렬\r\n",
    "선택 정렬 알고리즘 : 데이터가 무작위로 여러 개 있을 때, 이중에서 가장 작은 데이터를 선택해 맨 앞에 있는 데이터와 바꾸고, \r\n",
    "\r\n",
    "                    그다음 작은 데이터를 선택해 앞에서 두 번째 데이터와 바꾸는 과정을 반복하는 알고리즘. \r\n",
    "\r\n",
    "![image](https://upload.wikimedia.org/wikipedia/commons/9/94/Selection-Sort-Animation.gif)\r\n",
    "\r\n",
    "### 선택 정렬의 시간 복잡도\r\n",
    "\r\n",
    "선택 정렬은 N-1번 만큼 가장 작은 수를 찾아서 맨 앞으로 보내야 한다.\r\n",
    "\r\n",
    "또한 매번 가장 작은 수를 찾기 위해서 비교 연산이 필요하다.\r\n",
    "\r\n",
    "연산 횟수는 N + (N-1) + (N-2) + ... + 2로 볼 수 있다. (N^2+N)/2로 표현 가능.\r\n",
    "\r\n",
    "빅오 표기법으로 간단히 O(N^2)이라고 표현할 수 있다.\r\n",
    "\r\n",
    "따라서, 만약 정렬해야 할 데이터의 개수가100배 늘어나면, 이론적으로 수행 시간은 10,000배로 늘어난다. "
   ],
   "metadata": {}
  },
  {
   "cell_type": "code",
   "execution_count": 62,
   "source": [
    "# 선택 정렬 내가 구현한 코드\r\n",
    "# 문제점 : 정렬이 잘 되어 있는 경에우도 index를 저장하고 자리를 바꾸기 때문에, 중복되는 경우가 생김. \r\n",
    "array = [7,5,9,0,3,1,6,2,4,8]\r\n",
    "\r\n",
    "for i in range(len(array)) : \r\n",
    "    minimum = array[i] \r\n",
    "    for j in range(i+1,len(array)):\r\n",
    "        if minimum > array[j] : \r\n",
    "            minimum = array[j]\r\n",
    "            index = j\r\n",
    "    array[i] ,array[index] = minimum, array[i]\r\n",
    "    print(array)\r\n",
    "# "
   ],
   "outputs": [
    {
     "output_type": "stream",
     "name": "stdout",
     "text": [
      "[0, 5, 9, 7, 3, 1, 6, 2, 4, 8]\n",
      "[0, 1, 9, 7, 3, 5, 6, 2, 4, 8]\n",
      "[0, 1, 2, 7, 3, 5, 6, 9, 4, 8]\n",
      "[0, 1, 2, 3, 7, 5, 6, 9, 4, 8]\n",
      "[0, 1, 2, 3, 4, 5, 6, 9, 7, 8]\n",
      "[0, 1, 2, 3, 4, 5, 6, 9, 5, 8]\n",
      "[0, 1, 2, 3, 4, 5, 5, 9, 6, 8]\n",
      "[0, 1, 2, 3, 4, 5, 5, 6, 9, 8]\n",
      "[0, 1, 2, 3, 4, 5, 5, 6, 8, 9]\n",
      "[0, 1, 2, 3, 4, 5, 5, 6, 8, 9]\n"
     ]
    }
   ],
   "metadata": {}
  },
  {
   "cell_type": "code",
   "execution_count": 63,
   "source": [
    "# 선택 정렬 책 코드\r\n",
    "array = [7,5,9,0,3,1,6,2,4,8]\r\n",
    "\r\n",
    "for i in range(len(array)) : \r\n",
    "    min_index = i\r\n",
    "    for j in range(i+1,len(array)):\r\n",
    "        if array[min_index] > array[j] : \r\n",
    "            min_index = j \r\n",
    "    array[i] ,array[min_index] = array[min_index], array[i]\r\n",
    "    print(array)"
   ],
   "outputs": [
    {
     "output_type": "stream",
     "name": "stdout",
     "text": [
      "[0, 5, 9, 7, 3, 1, 6, 2, 4, 8]\n",
      "[0, 1, 9, 7, 3, 5, 6, 2, 4, 8]\n",
      "[0, 1, 2, 7, 3, 5, 6, 9, 4, 8]\n",
      "[0, 1, 2, 3, 7, 5, 6, 9, 4, 8]\n",
      "[0, 1, 2, 3, 4, 5, 6, 9, 7, 8]\n",
      "[0, 1, 2, 3, 4, 5, 6, 9, 7, 8]\n",
      "[0, 1, 2, 3, 4, 5, 6, 9, 7, 8]\n",
      "[0, 1, 2, 3, 4, 5, 6, 7, 9, 8]\n",
      "[0, 1, 2, 3, 4, 5, 6, 7, 8, 9]\n",
      "[0, 1, 2, 3, 4, 5, 6, 7, 8, 9]\n"
     ]
    }
   ],
   "metadata": {}
  },
  {
   "cell_type": "markdown",
   "source": [
    "### 삽입 정렬\r\n",
    "\r\n",
    "\\* 삽입 정렬은 필요할 때만 위치를 바꾸므로 **데이터가 거의 정렬되어 있을 떄** 훨씬 효율적이다.\r\n",
    "\r\n",
    "\\* 삽입 정렬은 특정한 데이터를 적절한 위치에 **삽입**한다는 의미에서 삽입 정렬이라고 부른다.  \r\n",
    "\r\n",
    "\\* 특정 위치 (배열의 2번째)에서 왼쪽 숫자와의 크기 비교를 통해서 왼쪽 숫자보다 작으면 왼쪽으로 이동, 크면 그대로 있는 방식으로 배열을 정렬함.  \r\n",
    "\r\n",
    "\\* 정렬이 이루어진 원소는 항상 오름차순을 유지하고 있다는 ㅌ윽성이 있음  \r\n",
    "\r\n",
    "\\* 이러한 특징 때문에 삽입 정렬에서는 특정한 데이터가 삽입될 위치를 선정할 때, 삽입될 데이터보다 작은 데이터를 만나면 그 위치에서 멈추면 된다.  \r\n",
    "\r\n",
    "\\* 다시 말해, 특정한 데이터으ㅟ 왼쪽에 있는 데이터들은 이미 정렬이 된 상태이므로 자기보다 작은 데이터를 만났다면 더 이상 데이터를 살펴볼 필요 없이 그 자리에 삽입되면 됨.  \r\n",
    "\r\n",
    "\\* 삽입 정렬의 시간 복잡도는 O(N^2)인데, 이는 반복문이 2번 중첩되어 사용된 것으로 부터 알 수 있다.  \r\n",
    "\r\n",
    "\\* 꼭 기억해야 할 내용은 삽입 정렬은 현재 리스트의 데이터가 거의 정렬되어 있는 상태라면 매우 빠르게 동작한다는 점이다. (최선의 경우 O(N)의 시간 복잡도를 가짐)  \r\n",
    "\r\n",
    "![image](https://upload.wikimedia.org/wikipedia/commons/e/ea/Insertion_sort_001.PNG)"
   ],
   "metadata": {}
  },
  {
   "cell_type": "code",
   "execution_count": 64,
   "source": [
    "# 삽입 정렬 책 코드\r\n",
    "array = [7,5,9,0,3,1,6,2,4,8]\r\n",
    "\r\n",
    "for i in range(len(array)) : \r\n",
    "    for j in range(i,0,-1):\r\n",
    "        if array[j] < array[j-1] : \r\n",
    "            array[j], array[j-1] = array[j-1], array[j]\r\n",
    "        else : \r\n",
    "            break\r\n",
    "array"
   ],
   "outputs": [
    {
     "output_type": "execute_result",
     "data": {
      "text/plain": [
       "[0, 1, 2, 3, 4, 5, 6, 7, 8, 9]"
      ]
     },
     "metadata": {},
     "execution_count": 64
    }
   ],
   "metadata": {}
  },
  {
   "cell_type": "markdown",
   "source": [
    "### 퀵 정렬\r\n",
    "\\* 퀵 정렬은 기준을 설정한 다음 큰 수와 작은 수를 교환한 후, 리스트를 반으로 나누는 방식으로 동작한다.  \r\n",
    "\r\n",
    "\\* 큰 숫자와 작은 숫자를 교환할 때, 교환하기 위한 '기준'을 바로 피벗이라고 표현한다.  \r\n",
    "\r\n",
    "\\* 이 책에서는 리스트에서 첫 번째 데이터를 피벗으로 정하는 호어 분할방식을 통해 퀵 정렬을 구현  \r\n",
    "\r\n",
    "\\* 피벗을 설정한 뒤에는 왼쪽에서부터 피벗보다 큰 데이터를 찾고, 오른쪽에서부터 피벗보다 작은 데이터를 찾는다.   \r\n",
    "\r\n",
    "\\* 그다음 큰 데이터와 작은 데이터의 위치를 서로 교환해준다.   \r\n",
    "\r\n",
    "\\* 재귀 함수로 작성했을 때, 구현이 매우 간단해진다. (현재 리스트의 데이터 개수가 1개인 경우를 재귀함수의 종료 조건으로 사용)  \r\n",
    "\r\n",
    "\\* 퀵 정렬의 시간 목잡도 \r\n",
    "    - 퀵 정렬의 평균 시간 복잡도는 O(NlogN)\r\n",
    "    - 최선의 경우를 생각해보면, 피벗값의 위치가 변경되어 분할이 일어날 때마다 정확히 왼쪽 리스트와 오른쪽 리스트를 절반씩 분할한다고 가정\r\n",
    "    - 평균적으로 시간 복잡도가 O(NlogN)이지만 최악의 경우 시간 복잡도가 O(N^2)\r\n",
    "    - 데이터가 무작위로 입력되는 경우 퀵 정렬은 빠르게 동작할 확률이 높다.\r\n",
    "    - 하지만, 이 책에서의 퀵 정렬처럼 리스트의 가장 왼쪽 데이터를 피벗으로 삼을 때, '이미 데이터가 정렬되어 있는 경우'에는 매우 느리게 동작한다.  \r\n",
    "    \r\n",
    "\r\n",
    "\r\n",
    "![image](https://gmlwjd9405.github.io/images/algorithm-quick-sort/quick-sort.png)"
   ],
   "metadata": {}
  },
  {
   "cell_type": "code",
   "execution_count": 65,
   "source": [
    "\"\"\" 퀵 정렬 구현 (책)\r\n",
    "깨달은 점 : 책과 같이 하나 하나 씩 비교를 한다기 보다는,\r\n",
    " array에서 pivot보다 작은 경우를 왼쪽, \r\n",
    " 큰 경우를 오른쪽으로 분할하고 재귀함수로 종료 조건까지 반복\"\"\"\r\n",
    "\r\n",
    "array = [5,7,9,0,3,1,6,2,4,8]\r\n",
    "\r\n",
    "def quick_sort(array) : \r\n",
    "    if len(array) <= 1 : \r\n",
    "        return array\r\n",
    "    pivot = array[0] # 피벗은 첫 번째 원소\r\n",
    "    tail = array[1:] # 피벗을 제외한 리스트\r\n",
    "\r\n",
    "    left_side = [x for x in tail if x <= pivot] # 분할된 왼쪽 부분\r\n",
    "    right_side = [x for x in tail if x > pivot] # 분할된 오른쪽 부분\r\n",
    "\r\n",
    "    # 분할 이후 왼쪽 부분과 오른쪽 부분에서 각각 정렬을 수행하고, 전체 리스트를 반환\r\n",
    "    return quick_sort(left_side) + [pivot] + quick_sort(right_side)\r\n",
    "\r\n",
    "print(quick_sort(array))"
   ],
   "outputs": [
    {
     "output_type": "stream",
     "name": "stdout",
     "text": [
      "[0, 1, 2, 3, 4, 5, 6, 7, 8, 9]\n"
     ]
    }
   ],
   "metadata": {}
  },
  {
   "cell_type": "markdown",
   "source": [
    "### 계수 정렬\r\n",
    "\\* 특정한 조건이 부합할 때만 사용할 수 있지만 매우 빠른 정렬 알고리즘  \r\n",
    "\r\n",
    "\\* 계수 정렬은 '데이터의 크기 범위가 제한되어 정수 형태로 표현할 수 있을 때'만 사용할 수 있다. \r\n",
    "    - 계수 정렬을 이용할 때는 '모든 범위를 담을 수 있는 크기의 리스트(배열)를 선언'해야 하기 때문  \r\n",
    "\r\n",
    "\\* 계수 정렬은 앞서 다루었던 3가지 정렬 알고리즘처럼직접 데이터의 값을 비교한 뒤에 위치를 변경하며 정렬하는 방식이 아니다.  \r\n",
    "\r\n",
    "\\* 계수 정렬은 일반적으로 별도의 리스트를 선언하고 그 안에 정렬에 대한 정보를 담는다는 특징이 있다.  \r\n",
    "\r\n",
    "\\* 계수 정렬은 먼저 가장 큰 데이터와 가장 작은 데이터의 범위가 모두 담길 수 있도록 하나의 리스트를 생성  \r\n",
    "\r\n",
    "\\* 그다음 데이터를 하나씩 확인하며 데이터의 값과 동일한 인덱스의 데이터를 1씩 증가시키면 계수 정렬이 완료 된다.  \r\n",
    "\r\n",
    "- 계수 정렬의 시간 복잡도\r\n",
    "    - 데이터의 개수를 N, 데이터 중 최대값의 크기를 K라고 할 때, 계수 정렬의 시간 복잡도는 O(N+K)\r\n",
    "    - 데이터의 범위만 한정되어 있다면 효과적으로 사용할 수 있으며 항상 빠르게 동작한다.\r\n",
    "    - 사실상 현존하는 정렬 알고리즘 중에서 기수 정렬과 더불어 가장 빠르다고 볼 수 있다.  \r\n",
    "\r\n",
    "\\\r\n",
    "- 계수 정렬의 공간 복잡도\r\n",
    "    - 계수 정렬은 때에 따라서 심각한 비효율성을 초래할 수 있다.\r\n",
    "    - 예를 들어 데이터가 0과 999,999 단 2개만 존재한다고 가정해보자. 이럴 때에도 리스트의 크기가 100만개가 되도록 선언해야 한다.\r\n",
    "    - **따라서, 동일한 값을 가지는 데이터가 여러 개 등장할 때 적합**하다.\r\n",
    "    - 계수 정렬은 데이터의 크기가 한정되어 있고, 데이터의 크기가 많이 중복되어 있을수록 유리하며 항상 사용할 수는 없다. \r\n",
    "    - 하지만, 조건만 만족한다면, 계수 정렬은 정렬해야 하는 데이터의 개수가 매우 많을 때에도 효과적으로 사용할 수 있다. "
   ],
   "metadata": {}
  },
  {
   "cell_type": "code",
   "execution_count": 66,
   "source": [
    "# 내가 구현한 계수 정렬\r\n",
    "array = [7,5,9,0,3,1,6,2,9,1,4,8,0,5,2]\r\n",
    "\r\n",
    "range_list = [0]*(max(array)+1)\r\n",
    "\r\n",
    "for i in array : \r\n",
    "    range_list[i] += 1\r\n",
    "\r\n",
    "for i in range(len(range_list)) : \r\n",
    "    for j in range(range_list[i]) : \r\n",
    "        print(i ,end=' ')\r\n"
   ],
   "outputs": [
    {
     "output_type": "stream",
     "name": "stdout",
     "text": [
      "0 0 1 1 2 2 3 4 5 5 6 7 8 9 9 "
     ]
    }
   ],
   "metadata": {}
  },
  {
   "cell_type": "markdown",
   "source": [
    "### 파이썬의 정렬 라이브러리\r\n",
    "- 파이썬은 기본 정렬 라이브러리인 sorted() 함수를 제공\r\n",
    "- sorted()는 퀵 정렬과 동작 방식이 비슷한 병합 정렬을 기반으로 만들어 짐\r\n",
    "- 병합 정렬은 일반적으로 퀵 정렬보다 느리지만 최악의 경우에도 시간 복잡도 O(NlogN)을 보장한다는 특징이 있음.\r\n",
    "- 리스트 객체의 내장 함수인 sort()를 이용해서도 정렬을 할 수 있음\r\n"
   ],
   "metadata": {}
  },
  {
   "cell_type": "code",
   "execution_count": 67,
   "source": [
    "array =[7,5,9,0,3,1,6,2,4,8]\r\n",
    "\r\n",
    "result = sorted(array)\r\n",
    "print(result)"
   ],
   "outputs": [
    {
     "output_type": "stream",
     "name": "stdout",
     "text": [
      "[0, 1, 2, 3, 4, 5, 6, 7, 8, 9]\n"
     ]
    }
   ],
   "metadata": {}
  },
  {
   "cell_type": "code",
   "execution_count": 69,
   "source": [
    "array =[7,5,9,0,3,1,6,2,4,8]\r\n",
    "\r\n",
    "array.sort()\r\n",
    "print(array)"
   ],
   "outputs": [
    {
     "output_type": "stream",
     "name": "stdout",
     "text": [
      "[0, 1, 2, 3, 4, 5, 6, 7, 8, 9]\n"
     ]
    }
   ],
   "metadata": {}
  },
  {
   "cell_type": "markdown",
   "source": [
    "- 또한 sorted()나 sort()를 이용할 때에는 key 매개변수를 입력으로 받을 수 있다.\r\n",
    "- key 값으로는 하나의 함수가 들어가야 하며 이는 정렬 기준이 된다. "
   ],
   "metadata": {}
  },
  {
   "cell_type": "code",
   "execution_count": 75,
   "source": [
    "array = [('바나나',2),('사과',5),('당근',3)]\r\n",
    "\r\n",
    "array.sort(key = lambda x : x[1])\r\n",
    "print(array)"
   ],
   "outputs": [
    {
     "output_type": "stream",
     "name": "stdout",
     "text": [
      "[('바나나', 2), ('당근', 3), ('사과', 5)]\n"
     ]
    }
   ],
   "metadata": {}
  },
  {
   "cell_type": "markdown",
   "source": [
    "### 정리\r\n",
    "- 문제에서 별도의 요구가 없다면 단순히 정렬해야 하는 상황에서는 기본 정렬 라이브러리를 사용하고, 데이터의 범위가 한정되어 있으며 더 빠르게 동작해야 할 때는 계수 정렬을 사용\r\n",
    "\r\n",
    "1. 정렬 라이브러리로 풀 수 있는 문제 : 단순히 정렬 기법을 알고 있는지 물어보는 문제로 기본 정렬 라이브러리의 사용 방법을 숙지하고 있으면 어렵지 않게 풀 수 있다.\r\n",
    "2. 정렬 알고리즘의 원리에 대해서 물어보는 문제 : 선택 정력, 삽입 정렬, 퀵 정렬 등의 원리를 알고 있어야 문제를 풀 수 있다.\r\n",
    "3. 더 빠른 정렬이 필요한 문제 : 퀵 정렬 기반의 정렬 기법으로는 풀 수 없으며, 계수 정렬 등의 다른 정렬 알고리즘을 이용하거나 문제에서 기존에 알려진 알고리즘의 구조적인 개선을 거쳐야 풀 수 있다. "
   ],
   "metadata": {}
  },
  {
   "cell_type": "markdown",
   "source": [],
   "metadata": {}
  }
 ],
 "metadata": {
  "orig_nbformat": 4,
  "language_info": {
   "name": "python",
   "version": "3.7.10",
   "mimetype": "text/x-python",
   "codemirror_mode": {
    "name": "ipython",
    "version": 3
   },
   "pygments_lexer": "ipython3",
   "nbconvert_exporter": "python",
   "file_extension": ".py"
  },
  "kernelspec": {
   "name": "python3",
   "display_name": "Python 3.7.10 64-bit ('deep-learning-20': conda)"
  },
  "interpreter": {
   "hash": "cdb0e1eaeae7d73f15a51853e3837c6ea3c1d6811a1c33886316680ce2998633"
  }
 },
 "nbformat": 4,
 "nbformat_minor": 2
}
