{
 "cells": [
  {
   "cell_type": "markdown",
   "source": [
    "# \"DFS/BFS 예제 풀이\"\r\n",
    "> \"자료구조 기초/ DFS/ BFS 예제\"\r\n",
    "\r\n",
    "- toc: false\r\n",
    "- branch: master\r\n",
    "- badges: true\r\n",
    "- comments: true\r\n",
    "- categories: [coding, jupyter]"
   ],
   "metadata": {}
  },
  {
   "cell_type": "markdown",
   "source": [
    "## 음료수 얼려 먹기\r\n",
    "- N x M의 얼음 틀  존재\r\n",
    "- 구멍이 뚫려 있는 부분은 0 , 칸막이가 존재하는 부분은 1\r\n",
    "- 0으로 된 부분이 연결되어 있으면 1개의 아이스크림 덩어리로 간주\r\n",
    "- 인풋 첫번째는 N과 M\r\n",
    "- 두번째 부터 끝까지는 N x M의 얼음 틀의 상태를 전달"
   ],
   "metadata": {}
  },
  {
   "cell_type": "code",
   "execution_count": 17,
   "source": [
    "N,M = list(map(int,input().split()))\r\n",
    "graph = []\r\n",
    "for i in range(N) : \r\n",
    "    graph.append(list(map(int,input())))\r\n",
    "\r\n",
    "def DFS(x,y ) : \r\n",
    "    if x<=-1 or x>=N  or y<=-1 or y>= M : \r\n",
    "        return False\r\n",
    "    if graph[x][y] == 0 :\r\n",
    "        # 방문 처리\r\n",
    "        graph[x][y] = 1 \r\n",
    "        DFS(x-1,y)\r\n",
    "        DFS(x,y-1)\r\n",
    "        DFS(x+1,y)\r\n",
    "        DFS(x,y+1)\r\n",
    "        return True # 한 블럭이 모두 방문처리되면 True 값 반환\r\n",
    "    return False\r\n",
    "\r\n",
    "result = 0 \r\n",
    "for i in range(N) : \r\n",
    "    for j in range(M) : \r\n",
    "        if DFS(i,j)==True : \r\n",
    "            result += 1\r\n",
    "print(result)\r\n",
    "    "
   ],
   "outputs": [
    {
     "output_type": "stream",
     "name": "stdout",
     "text": [
      "3\n"
     ]
    }
   ],
   "metadata": {}
  },
  {
   "cell_type": "markdown",
   "source": [
    "## 미로 탈출\r\n",
    "- N x M 크기 미로\r\n",
    "- 처음 위치는 (1,1), 미로 출구 위치는 (N,M)\r\n",
    "- 한번에 한칸씩 이동 가능\r\n",
    "- 괴물 있는 부분 0, 없는 부분 1\r\n",
    "- 탈출하기 위해 움직여야 하는 최소 칸의 개수\r\n",
    "- 칸을 셀 때는 시작 칸과 마지막 칸을 모두 포함해서 계산"
   ],
   "metadata": {}
  },
  {
   "cell_type": "code",
   "execution_count": 26,
   "source": [
    "from collections import deque\r\n",
    "N,M = list(map(int,input().split()))\r\n",
    "graph = []\r\n",
    "for i in range(N) : \r\n",
    "    graph.append(list(map(int,input())))\r\n",
    "\r\n",
    "# 이동할 네 방향 정의(상,하,좌,우)\r\n",
    "dx = [-1,1,0,0]\r\n",
    "dy = [0,0,-1,1]\r\n",
    "\r\n",
    "# BFS 소스코드 구현\r\n",
    "def bfs(x,y) : \r\n",
    "    queue = deque()\r\n",
    "    queue.append((x,y))\r\n",
    "    #큐가 빌 때 까지 반복\r\n",
    "    while queue : \r\n",
    "        x,y = queue.popleft()\r\n",
    "        for i in range(4) : \r\n",
    "            nx = x + dx[i]\r\n",
    "            ny = y + dy[i]\r\n",
    "            # 미로 찾기 공간을 벗어난 경우 무시\r\n",
    "            if nx <0 or ny <0 or  nx>= N or ny>=M : \r\n",
    "                continue\r\n",
    "            if graph[nx][ny] == 0 : \r\n",
    "                continue\r\n",
    "            if graph[nx][ny] == 1 : \r\n",
    "                graph[nx][ny] = graph[x][y]+ 1 # 이동 하기 전 위치에 1을 더해줌\r\n",
    "                queue.append((nx,ny))\r\n",
    "    return graph[N-1][M-1] # 마지막 위치에서의 이동 횟수를 반환 \r\n",
    "\r\n",
    "print(bfs(0,0))\r\n"
   ],
   "outputs": [
    {
     "output_type": "stream",
     "name": "stdout",
     "text": [
      "10\n"
     ]
    }
   ],
   "metadata": {}
  },
  {
   "cell_type": "code",
   "execution_count": 27,
   "source": [
    "graph # 첫 번째 시작 위치는 다시 방문할 수 있도록 되어 첫 번째 시작 위치에 해당하는 값이 3으로 변경."
   ],
   "outputs": [
    {
     "output_type": "execute_result",
     "data": {
      "text/plain": [
       "[[3, 0, 5, 0, 7, 0],\n",
       " [2, 3, 4, 5, 6, 7],\n",
       " [0, 0, 0, 0, 0, 8],\n",
       " [14, 13, 12, 11, 10, 9],\n",
       " [15, 14, 13, 12, 11, 10]]"
      ]
     },
     "metadata": {},
     "execution_count": 27
    }
   ],
   "metadata": {}
  }
 ],
 "metadata": {
  "orig_nbformat": 4,
  "language_info": {
   "name": "python",
   "version": "3.8.5",
   "mimetype": "text/x-python",
   "codemirror_mode": {
    "name": "ipython",
    "version": 3
   },
   "pygments_lexer": "ipython3",
   "nbconvert_exporter": "python",
   "file_extension": ".py"
  },
  "kernelspec": {
   "name": "python3",
   "display_name": "Python 3.8.5 64-bit ('base': conda)"
  },
  "interpreter": {
   "hash": "c5f11a010937bc40e59ff680a031634e4727ca6def69881eda5bf4731e81bf33"
  }
 },
 "nbformat": 4,
 "nbformat_minor": 2
}