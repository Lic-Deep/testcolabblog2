{
 "cells": [
  {
   "cell_type": "markdown",
   "source": [
    "# \"정렬 알고리즘 실전문제\"\r\n",
    "> \"정렬 알고리즘 실전문제\"\r\n",
    "\r\n",
    "- toc: false\r\n",
    "- branch: master\r\n",
    "- badges: true\r\n",
    "- comments: true\r\n",
    "- categories: [coding, jupyter]"
   ],
   "metadata": {}
  },
  {
   "cell_type": "markdown",
   "source": [
    "## 2. 위에서 아래로\r\n",
    "\\* 문제 설명 : 주어진 순열을 내림차순으로 정렬하는 문제\r\n",
    "\r\n",
    "\\* 수의 개수가 500개 이하로 매우 적으며, 모든 수는 1이상 10만 이하이므로 어떤 정렬 알고리즘을 사용해도 문제 해결 가능\r\n",
    "\r\n",
    "\\* 책에서는 가장 간결한 기본 정렬 라이브러리를 사용하였으나 나는 계수정렬 사용"
   ],
   "metadata": {}
  },
  {
   "cell_type": "code",
   "execution_count": 17,
   "source": [
    "\r\n",
    "input_num = int(input())\r\n",
    "input_list = []\r\n",
    "for i in range(item_num) : \r\n",
    "    input_list.append(int(input()))\r\n",
    "\r\n",
    "num_list = [0]*(max(input_list)+1)\r\n",
    "\r\n",
    "for i in input_list : \r\n",
    "    num_list[i] += 1 \r\n",
    "\r\n",
    "for j in range(len(num_list)-1,0,-1) :\r\n",
    "    if j>=1 : \r\n",
    "        for k in range(num_list[j]) : \r\n",
    "           print(j,end=' ')\r\n"
   ],
   "outputs": [
    {
     "output_type": "stream",
     "name": "stdout",
     "text": [
      "27 15 12 "
     ]
    }
   ],
   "metadata": {}
  },
  {
   "cell_type": "markdown",
   "source": [
    "## 3. 성적이 낮은 순서로 학생 출력하기\r\n",
    "\r\n",
    "\\* 문제 설명 : (이름, 성적) 으로 주어지는 리스트를 성적이 낮은 순서로 이름 출력\r\n"
   ],
   "metadata": {}
  },
  {
   "cell_type": "code",
   "execution_count": 37,
   "source": [
    "num = int(input())\r\n",
    "\r\n",
    "array = []\r\n",
    "for i in range(num) : \r\n",
    "    # array.append(input().split())\r\n",
    "    name, score = input().split()\r\n",
    "    array.append([name,int(score)])\r\n",
    "\r\n",
    "array.sort(key = lambda x : x[1])\r\n",
    "\r\n",
    "for x,y in array : \r\n",
    "    print(x,end = ' ')"
   ],
   "outputs": [
    {
     "output_type": "stream",
     "name": "stdout",
     "text": [
      "김유신 홍길동 이순신 "
     ]
    }
   ],
   "metadata": {}
  },
  {
   "cell_type": "markdown",
   "source": [
    "## 4. 두 배열의 원소 교체\r\n",
    "\r\n",
    "\\* 문제 설명 : A와 B 행렬의 원소를 K번 교환하여 만들 수 있는 A 행렬 원소값들의 가장 큰 값을 출력. \r\n"
   ],
   "metadata": {}
  },
  {
   "cell_type": "code",
   "execution_count": 62,
   "source": [
    "# 내가 작성한 코드\r\n",
    "\r\n",
    "import numpy as np\r\n",
    "\r\n",
    "N, K = map(int,input().split())\r\n",
    "A = list(map(int,input().split()))\r\n",
    "B = list(map(int,input().split()))\r\n",
    "\r\n",
    "for i in range(K) : \r\n",
    "    if min(A) < max(B) : \r\n",
    "        min_index_A = np.argmin(A)\r\n",
    "        max_index_B = np.argmax(B)\r\n",
    "        A[min_index_A] , B[max_index_B] = B[max_index_B] , A[min_index_A]\r\n",
    "print(sum(A))"
   ],
   "outputs": [
    {
     "output_type": "stream",
     "name": "stdout",
     "text": [
      "26\n"
     ]
    }
   ],
   "metadata": {}
  },
  {
   "cell_type": "code",
   "execution_count": 67,
   "source": [
    "# 책에서 정렬 알고리즘을 사용한 코드\r\n",
    "\r\n",
    "N, K = map(int,input().split())\r\n",
    "A = list(map(int,input().split()))\r\n",
    "B = list(map(int,input().split()))\r\n",
    "\r\n",
    "A.sort()\r\n",
    "B.sort(reverse=True)\r\n",
    "for i in range(K) : \r\n",
    "    if A[i]<B[i] : \r\n",
    "        A[i] , B[i] = B[i] , A[i]\r\n",
    "    else : \r\n",
    "        break\r\n",
    "\r\n",
    "print(sum(A))\r\n"
   ],
   "outputs": [
    {
     "output_type": "stream",
     "name": "stdout",
     "text": [
      "26\n"
     ]
    }
   ],
   "metadata": {}
  }
 ],
 "metadata": {
  "orig_nbformat": 4,
  "language_info": {
   "name": "python",
   "version": "3.7.10",
   "mimetype": "text/x-python",
   "codemirror_mode": {
    "name": "ipython",
    "version": 3
   },
   "pygments_lexer": "ipython3",
   "nbconvert_exporter": "python",
   "file_extension": ".py"
  },
  "kernelspec": {
   "name": "python3",
   "display_name": "Python 3.7.10 64-bit ('deep-learning-20': conda)"
  },
  "interpreter": {
   "hash": "cdb0e1eaeae7d73f15a51853e3837c6ea3c1d6811a1c33886316680ce2998633"
  }
 },
 "nbformat": 4,
 "nbformat_minor": 2
}