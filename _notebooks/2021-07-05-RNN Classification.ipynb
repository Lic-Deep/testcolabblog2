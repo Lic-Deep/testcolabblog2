{
 "cells": [
  {
   "cell_type": "markdown",
   "metadata": {},
   "source": [
    "# \"기초부터 시작하는 NLP: 문자-단위 RNN으로 이름 분류하기\"\r\n",
    "> \"Pytorch Tutorial 따라서 코드 돌려보며, 내용 확인.\"\r\n",
    "\r\n",
    "- toc:true\r\n",
    "- branch: master\r\n",
    "- badges: true\r\n",
    "- comments: true\r\n",
    "- author: In Chan\r\n",
    "- categories: [jupyter, deep learning]"
   ]
  },
  {
   "cell_type": "markdown",
   "metadata": {},
   "source": [
    "# 기초부터 시작하는 NLP: 문자-단위 RNN으로 이름 분류하기\n",
    "___"
   ]
  },
  {
   "cell_type": "markdown",
   "metadata": {},
   "source": [
    "## 1. 데이터 준비"
   ]
  },
  {
   "cell_type": "markdown",
   "metadata": {},
   "source": [
    "- Language.txt라는 텍스트 파일에 한 줄에는 이르밍 포함되어 있으며 대부분 로마자로 되어 있음.\n",
    "- 각 언어 별로 이름 목록 딕셔너리 {language : [names ...]}을 만든다.\n"
   ]
  },
  {
   "cell_type": "code",
   "execution_count": 5,
   "metadata": {},
   "outputs": [
    {
     "data": {
      "text/plain": [
       "\"abcdefghijklmnopqrstuvwxyzABCDEFGHIJKLMNOPQRSTUVWXYZ .,;'\""
      ]
     },
     "execution_count": 5,
     "metadata": {},
     "output_type": "execute_result"
    }
   ],
   "source": [
    "all_letters"
   ]
  },
  {
   "cell_type": "code",
   "execution_count": 2,
   "metadata": {
    "scrolled": true
   },
   "outputs": [
    {
     "name": "stdout",
     "output_type": "stream",
     "text": [
      "['data/names\\\\Arabic.txt', 'data/names\\\\Chinese.txt', 'data/names\\\\Czech.txt', 'data/names\\\\Dutch.txt', 'data/names\\\\English.txt', 'data/names\\\\French.txt', 'data/names\\\\German.txt', 'data/names\\\\Greek.txt', 'data/names\\\\Irish.txt', 'data/names\\\\Italian.txt', 'data/names\\\\Japanese.txt', 'data/names\\\\Korean.txt', 'data/names\\\\Polish.txt', 'data/names\\\\Portuguese.txt', 'data/names\\\\Russian.txt', 'data/names\\\\Scottish.txt', 'data/names\\\\Spanish.txt', 'data/names\\\\Vietnamese.txt']\n",
      "Slusarski\n"
     ]
    }
   ],
   "source": [
    "from __future__ import unicode_literals, print_function, division\r\n",
    "from io import open\r\n",
    "import glob\r\n",
    "import os\r\n",
    "\r\n",
    "def findFiles(path): return glob.glob(path) \r\n",
    "print(findFiles('data/names/*.txt')) # path에 있는 txt 파일 모두 가져오기\r\n",
    "\r\n",
    "import unicodedata\r\n",
    "import string\r\n",
    "\r\n",
    "all_letters = string.ascii_letters + \" .,;'\" # a부터 Z + .,;'\"까지.\r\n",
    "n_letters = len(all_letters)\r\n",
    "\r\n",
    "# 유니코드 문자열을 ASCII로 변환, https://stackoverflow.com/a/518232/2809427\r\n",
    "def unicodeToAscii(s):\r\n",
    "    return ''.join(\r\n",
    "        c for c in unicodedata.normalize('NFD', s)\r\n",
    "        if unicodedata.category(c) != 'Mn'\r\n",
    "        and c in all_letters\r\n",
    "    )\r\n",
    "\r\n",
    "print(unicodeToAscii('Ślusàrski'))\r\n",
    "\r\n",
    "# 각 언어의 이름 목록인 category_lines 사전 생성\r\n",
    "category_lines = {}\r\n",
    "all_categories = []\r\n",
    "\r\n",
    "# 파일을 읽고 줄 단위로 분리\r\n",
    "def readLines(filename):\r\n",
    "    lines = open(filename, encoding='utf-8').read().strip().split('\\n')\r\n",
    "    return [unicodeToAscii(line) for line in lines]\r\n",
    "\r\n",
    "# 각 파일 읽고 줄 단위로 분리해서, 카테고리 별로 딕셔너리 형태로 정리 \r\n",
    "for filename in findFiles('data/names/*.txt'): \r\n",
    "    category = os.path.splitext(os.path.basename(filename))[0]\r\n",
    "    all_categories.append(category)\r\n",
    "    lines = readLines(filename)\r\n",
    "    category_lines[category] = lines\r\n",
    "\r\n",
    "n_categories = len(all_categories)"
   ]
  },
  {
   "cell_type": "markdown",
   "metadata": {},
   "source": [
    "## 2. 이름을 Tensor로 변경\r\n",
    "- 하나의 문자를 표현하기 위해 크기가 **<1 x n_letters>**인 One-Hot 벡터를 사용\r\n",
    "- 단어를 만들기 위해 원핫 벡터들을 2차원 핼렬 **<line_length x 1 x n_letters>** 에 결합시킴 \r\n",
    "- 위에서 보이는 추가적인 1차원은 Batch로 생각하면 됨. (예제에서는 Batch 1을 사용함)"
   ]
  },
  {
   "cell_type": "code",
   "execution_count": 18,
   "metadata": {},
   "outputs": [
    {
     "name": "stdout",
     "output_type": "stream",
     "text": [
      "tensor([[0., 0., 0., 0., 0., 0., 0., 0., 0., 0., 0., 0., 0., 0., 0., 0., 0., 0.,\n",
      "         0., 0., 0., 0., 0., 0., 0., 0., 0., 0., 0., 0., 0., 0., 0., 0., 0., 1.,\n",
      "         0., 0., 0., 0., 0., 0., 0., 0., 0., 0., 0., 0., 0., 0., 0., 0., 0., 0.,\n",
      "         0., 0., 0.]])\n",
      "torch.Size([5, 1, 57])\n"
     ]
    }
   ],
   "source": [
    "'''\r\n",
    ".. NOTE::\r\n",
    "역자 주:  One-Hot 벡터는 언어를 다룰 때 자주 이용되며,\r\n",
    "단어,글자 등을 벡터로 표현 할 때 단어,글자 사이의 상관 관계를 미리 알 수 없을 경우,\r\n",
    "One-Hot으로 표현하여 서로 직교한다고 가정하고 학습을 시작합니다.\r\n",
    "동일하게 상관 관계를 알 수 없는 다른 데이터의 경우에도 One-Hot 벡터를 활용 할 수 있습니다.\r\n",
    "'''\r\n",
    "\r\n",
    "import torch\r\n",
    "\r\n",
    "# all_letters 로 문자의 주소 찾기, 예시 \"a\" = 0\r\n",
    "def letterToIndex(letter):\r\n",
    "    return all_letters.find(letter)\r\n",
    "\r\n",
    "# 검증을 위해서 한개의 문자를 <1 x n_letters> Tensor로 변환\r\n",
    "def letterToTensor(letter):\r\n",
    "    tensor = torch.zeros(1, n_letters)\r\n",
    "    tensor[0][letterToIndex(letter)] = 1\r\n",
    "    return tensor\r\n",
    "\r\n",
    "# 한 줄(이름)을  <line_length x 1 x n_letters>,\r\n",
    "# 또는 One-Hot 문자 벡터의 Array로 변경\r\n",
    "def lineToTensor(line):\r\n",
    "    tensor = torch.zeros(len(line), 1, n_letters) \r\n",
    "    for li, letter in enumerate(line): # li가 index, letter이 문자.\r\n",
    "        tensor[li][0][letterToIndex(letter)] = 1 # 순서대로 하나씩 할당쓰\r\n",
    "    return tensor\r\n",
    "\r\n",
    "print(letterToTensor('J'))\r\n",
    "\r\n",
    "print(lineToTensor('Jones').size())"
   ]
  },
  {
   "cell_type": "markdown",
   "metadata": {},
   "source": [
    "## 3. Network 생성\r\n",
    "- 여러 시간 단계 걸처서 계층의 매개변수를 복제하는 작업을 포함. \r\n",
    "- 계층은 히든스테이트와 그레디언트를 가짐. \r\n",
    "- 교육목적으로 여기에서는 nn.RNN대신 직접 RNN을 구현\r\n",
    "\r\n",
    "![image description>](https://i.imgur.com/Z2xbySO.png)\r\n"
   ]
  },
  {
   "cell_type": "markdown",
   "metadata": {},
   "source": [
    "- 위의그래프와 동일한 내용을 코드로 torch.nn 모듈을 사용해 구현  "
   ]
  },
  {
   "cell_type": "code",
   "execution_count": 24,
   "metadata": {},
   "outputs": [],
   "source": [
    "import torch.nn as nn\r\n",
    "\r\n",
    "class RNN(nn.Module):\r\n",
    "    def __init__(self, input_size, hidden_size, output_size):\r\n",
    "        super(RNN, self).__init__()\r\n",
    "\r\n",
    "        self.hidden_size = hidden_size\r\n",
    "        self.i2h = nn.Linear(input_size + hidden_size, hidden_size)\r\n",
    "        self.i2o = nn.Linear(input_size + hidden_size, output_size)\r\n",
    "        self.softmax = nn.LogSoftmax(dim=1)\r\n",
    "\r\n",
    "    def forward(self, input, hidden):\r\n",
    "        combined = torch.cat((input, hidden), 1)\r\n",
    "        hidden = self.i2h(combined)\r\n",
    "        output = self.i2o(combined)\r\n",
    "        output = self.softmax(output)\r\n",
    "        return output, hidden\r\n",
    "\r\n",
    "    def initHidden(self):\r\n",
    "        return torch.zeros(1, self.hidden_size)\r\n",
    "\r\n",
    "n_hidden = 128\r\n",
    "rnn = RNN(n_letters, n_hidden, n_categories)"
   ]
  },
  {
   "cell_type": "markdown",
   "metadata": {},
   "source": [
    "- 이 네트워크의 인풋으로 현재 문자와 이전의 히든 스테이트를 전달\r\n",
    "- 출력으로는 다음 문자예측 확률(?)과 다음 히든 스테이트를 뱉음"
   ]
  },
  {
   "cell_type": "code",
   "execution_count": 28,
   "metadata": {},
   "outputs": [],
   "source": [
    "input = letterToTensor('A')\r\n",
    "hidden = torch.zeros(1, n_hidden)\r\n",
    "\r\n",
    "output, next_hidden = rnn(input, hidden)"
   ]
  },
  {
   "cell_type": "markdown",
   "metadata": {},
   "source": [
    "- 효율을 위해 매 단계마다 새로운 Tensor를 만드는 letterToTensor 대신에 lineToTensor를 잘라서 사용\r\n",
    "  - Outpus size 비교  \r\n",
    "  - letterToTensor : output size = <1 x n_letters>  \r\n",
    "  - lineToTensor를 : output size = <line_length x 1 x n_letters>"
   ]
  },
  {
   "cell_type": "code",
   "execution_count": 37,
   "metadata": {},
   "outputs": [
    {
     "name": "stdout",
     "output_type": "stream",
     "text": [
      "tensor([[-2.9623, -2.8842, -2.8301, -3.0091, -2.8134, -2.8949, -2.9072, -2.9633,\n",
      "         -2.9219, -2.8543, -2.9230, -2.8392, -2.8854, -2.8038, -2.9700, -2.8063,\n",
      "         -2.9232, -2.8666]], grad_fn=<LogSoftmaxBackward>)\n"
     ]
    }
   ],
   "source": [
    "input = lineToTensor('Albert')\r\n",
    "hidden = torch.zeros(1, n_hidden)\r\n",
    "\r\n",
    "output, next_hidden = rnn(input[0], hidden)\r\n",
    "print(output)"
   ]
  },
  {
   "cell_type": "markdown",
   "metadata": {},
   "source": [
    "## 4. 학습"
   ]
  },
  {
   "cell_type": "markdown",
   "metadata": {},
   "source": [
    "- 우리가 알아낸 각 카테고리의 확률인 네트워크의 출력을 해석하는 함수 \r\n",
    "- 가장 큰 값의 주소를 알기 위해서 Tensor.topk를 사용할 수 있음. \r\n",
    "- 이는 네트워크의 출력이 가장 높은 카테고리 이름과 카테고리 번호를 반환 함."
   ]
  },
  {
   "cell_type": "code",
   "execution_count": 46,
   "metadata": {},
   "outputs": [
    {
     "name": "stdout",
     "output_type": "stream",
     "text": [
      "('Portuguese', 13)\n"
     ]
    }
   ],
   "source": [
    "def categoryFromOutput(output):\r\n",
    "    top_n, top_i = output.topk(1) # 텐서의 가장 큰 값 및 주소 , 즉 top_n은 max값, top_i는 argmax 값\r\n",
    "    category_i = top_i[0].item()     # 텐서에서 정수 값으로 변경\r\n",
    "    return all_categories[category_i], category_i\r\n",
    "\r\n",
    "print(categoryFromOutput(output))"
   ]
  },
  {
   "cell_type": "markdown",
   "metadata": {},
   "source": [
    "- 하나의 이름과 그 언어를 얻는 빠른 방법도 필요"
   ]
  },
  {
   "cell_type": "code",
   "execution_count": 47,
   "metadata": {},
   "outputs": [
    {
     "name": "stdout",
     "output_type": "stream",
     "text": [
      "category = French / line = Masson\n",
      "category = Dutch / line = Bueren\n",
      "category = Irish / line = Casey\n",
      "category = French / line = Deniel\n",
      "category = Vietnamese / line = Vo\n",
      "category = English / line = Singh\n",
      "category = Czech / line = Kouba\n",
      "category = Scottish / line = Sinclair\n",
      "category = Italian / line = Prosdocimi\n",
      "category = Korean / line = Yeon\n"
     ]
    }
   ],
   "source": [
    "import random\r\n",
    "\r\n",
    "def randomChoice(l):\r\n",
    "    return l[random.randint(0, len(l) - 1)] # 0부터 len(l)-1까지의 숫자 중 무작위로 하나 Sample \r\n",
    "\r\n",
    "def randomTrainingExample():\r\n",
    "    category = randomChoice(all_categories) # 카테고리에서 무작위로 하나 Sample \r\n",
    "    line = randomChoice(category_lines[category]) # 해당 category에서 무작위로 하나의 이름 Sample \r\n",
    "    category_tensor = torch.tensor([all_categories.index(category)], dtype=torch.long) # 해당 카테고리의 index를 반환\r\n",
    "    line_tensor = lineToTensor(line) # 이름을 원핫 백터로 쪼개줌 \r\n",
    "    return category, line, category_tensor, line_tensor\r\n",
    "\r\n",
    "for i in range(10):\r\n",
    "    category, line, category_tensor, line_tensor = randomTrainingExample()\r\n",
    "    print('category =', category, '/ line =', line)"
   ]
  },
  {
   "cell_type": "markdown",
   "metadata": {},
   "source": [
    "## 5. Network 학습"
   ]
  },
  {
   "cell_type": "markdown",
   "metadata": {},
   "source": [
    "- RNN의 마지막 계층이 nn.LogsoftMax이므로 손실 함수로 nn.NLLLose가 적합\r\n",
    "- 각 학습 루프는 다음과 같음\r\n",
    "    - 입력과 목표 Tensor 생성\r\n",
    "    - 0로 초기화된 은닉 상태 생성 **(각 Epoch마다 적용)**\r\n",
    "    - 각 문자를 읽기\r\n",
    "        - 다음 문자를 위한 은닉 상태 유지\r\n",
    "    - 목표와 최종 출력 비교\r\n",
    "    - 역전파\r\n",
    "    - 출력과 손실 반환\r\n"
   ]
  },
  {
   "cell_type": "code",
   "execution_count": 53,
   "metadata": {},
   "outputs": [],
   "source": [
    "criterion = nn.NLLLoss()\r\n",
    "\r\n",
    "learning_rate = 0.005 # 이것을 너무 높게 설정하면 발산할 수 있고, 너무 낮으면 학습이 되지 않을 수 있습니다.\r\n",
    "\r\n",
    "def train(category_tensor, line_tensor):\r\n",
    "    hidden = rnn.initHidden()\r\n",
    "\r\n",
    "    rnn.zero_grad()\r\n",
    "\r\n",
    "    for i in range(line_tensor.size()[0]):\r\n",
    "        output, hidden = rnn(line_tensor[i], hidden)\r\n",
    "\r\n",
    "    loss = criterion(output, category_tensor)\r\n",
    "    loss.backward()\r\n",
    "\r\n",
    "    # 매개변수의 경사도에 학습률을 곱해서 그 매개변수의 값에 더합니다.\r\n",
    "    for p in rnn.parameters():\r\n",
    "        p.data.add_(p.grad.data, alpha=-learning_rate)\r\n",
    "\r\n",
    "    return output, loss.item()"
   ]
  },
  {
   "cell_type": "code",
   "execution_count": 54,
   "metadata": {},
   "outputs": [
    {
     "name": "stdout",
     "output_type": "stream",
     "text": [
      "5000 5% (0m 10s) 2.6400 Stueck / Spanish ✗ (German)\n",
      "10000 10% (0m 20s) 2.7578 Said / Vietnamese ✗ (Arabic)\n",
      "15000 15% (0m 30s) 1.8257 Truong / Chinese ✗ (Vietnamese)\n",
      "20000 20% (0m 40s) 0.6166 Bertsimas / Greek ✓\n",
      "25000 25% (0m 50s) 1.1281 Finnegan / Irish ✓\n",
      "30000 30% (1m 0s) 0.9489 Chu / Vietnamese ✓\n",
      "35000 35% (1m 10s) 0.7092 Qiu / Chinese ✓\n",
      "40000 40% (1m 20s) 2.2543 Fritsch / Scottish ✗ (Czech)\n",
      "45000 45% (1m 30s) 1.0722 Lorenz / German ✓\n",
      "50000 50% (1m 40s) 0.2360 Shon / Korean ✓\n",
      "55000 55% (1m 51s) 1.0983 Loyola / Spanish ✓\n",
      "60000 60% (2m 2s) 2.1661 Han / Chinese ✗ (Korean)\n",
      "65000 65% (2m 12s) 1.5942 Haggett / Scottish ✗ (English)\n",
      "70000 70% (2m 22s) 0.4008 Entov / Russian ✓\n",
      "75000 75% (2m 32s) 0.8115 Fei / Chinese ✓\n",
      "80000 80% (2m 42s) 0.8383 Ferro / Portuguese ✓\n",
      "85000 85% (2m 52s) 2.8902 Rojas / Greek ✗ (Spanish)\n",
      "90000 90% (3m 3s) 0.4899 Zhuan / Chinese ✓\n",
      "95000 95% (3m 13s) 1.6965 Stoep / Arabic ✗ (Dutch)\n",
      "100000 100% (3m 23s) 1.5459 Poplawski / Russian ✗ (Polish)\n"
     ]
    }
   ],
   "source": [
    "import time\r\n",
    "import math\r\n",
    "\r\n",
    "n_iters = 100000\r\n",
    "print_every = 5000\r\n",
    "plot_every = 1000\r\n",
    "\r\n",
    "# 도식화를 위한 손실 추적\r\n",
    "current_loss = 0\r\n",
    "all_losses = []\r\n",
    "\r\n",
    "def timeSince(since):\r\n",
    "    now = time.time()\r\n",
    "    s = now - since\r\n",
    "    m = math.floor(s / 60)\r\n",
    "    s -= m * 60\r\n",
    "    return '%dm %ds' % (m, s)\r\n",
    "\r\n",
    "start = time.time()\r\n",
    "\r\n",
    "for iter in range(1, n_iters + 1):\r\n",
    "    category, line, category_tensor, line_tensor = randomTrainingExample() # 무작위로 1개의 단어 추출 \r\n",
    "    output, loss = train(category_tensor, line_tensor)\r\n",
    "    current_loss += loss\r\n",
    "\r\n",
    "    # iter 숫자, 손실, 이름, 추측 화면 출력\r\n",
    "    if iter % print_every == 0:\r\n",
    "        guess, guess_i = categoryFromOutput(output)\r\n",
    "        correct = '✓' if guess == category else '✗ (%s)' % category\r\n",
    "        print('%d %d%% (%s) %.4f %s / %s %s' % (iter, iter / n_iters * 100, timeSince(start), loss, line, guess, correct))\r\n",
    "\r\n",
    "    # 현재 평균 손실을 전체 손실 리스트에 추가\r\n",
    "    if iter % plot_every == 0:\r\n",
    "        all_losses.append(current_loss / plot_every)\r\n",
    "        current_loss = 0"
   ]
  },
  {
   "cell_type": "markdown",
   "metadata": {},
   "source": [
    "## 6. 결과 도식화"
   ]
  },
  {
   "cell_type": "code",
   "execution_count": 56,
   "metadata": {},
   "outputs": [
    {
     "data": {
      "text/plain": [
       "[<matplotlib.lines.Line2D at 0x1cf866f2648>]"
      ]
     },
     "execution_count": 56,
     "metadata": {},
     "output_type": "execute_result"
    },
    {
     "data": {
      "image/png": "[encoded data removed]",
      "text/plain": [
       "<Figure size 432x288 with 1 Axes>"
      ]
     },
     "metadata": {
      "needs_background": "light"
     },
     "output_type": "display_data"
    }
   ],
   "source": [
    "import matplotlib.pyplot as plt\r\n",
    "import matplotlib.ticker as ticker\r\n",
    "\r\n",
    "plt.figure()\r\n",
    "plt.plot(all_losses)"
   ]
  },
  {
   "cell_type": "markdown",
   "metadata": {},
   "source": [
    "## 7. 결과 평가\r\n",
    "- 네트워크가 다른 카테고리에서 예측을 잘 하는지를 확인하기 위해, Confusion Matrix 산출"
   ]
  },
  {
   "cell_type": "code",
   "execution_count": 58,
   "metadata": {},
   "outputs": [
    {
     "name": "stderr",
     "output_type": "stream",
     "text": [
      "ipykernel_launcher:33: UserWarning: FixedFormatter should only be used together with FixedLocator\n",
      "ipykernel_launcher:34: UserWarning: FixedFormatter should only be used together with FixedLocator\n"
     ]
    },
    {
     "data": {
      "image/png": "[encoded data removed]",
      "text/plain": [
       "<Figure size 432x288 with 2 Axes>"
      ]
     },
     "metadata": {
      "needs_background": "light"
     },
     "output_type": "display_data"
    }
   ],
   "source": [
    "# 혼란 행렬에서 정확한 추측을 추적\r\n",
    "confusion = torch.zeros(n_categories, n_categories)\r\n",
    "n_confusion = 10000\r\n",
    "\r\n",
    "# 주어진 라인의 출력 반환\r\n",
    "def evaluate(line_tensor):\r\n",
    "    hidden = rnn.initHidden()\r\n",
    "    for i in range(line_tensor.size()[0]):\r\n",
    "        output, hidden = rnn(line_tensor[i], hidden)\r\n",
    "    return output\r\n",
    "\r\n",
    "# 예시들 중에 어떤 것이 정확하게 예측되었는지 기록\r\n",
    "for i in range(n_confusion):\r\n",
    "    category, line, category_tensor, line_tensor = randomTrainingExample()\r\n",
    "    output = evaluate(line_tensor)\r\n",
    "    guess, guess_i = categoryFromOutput(output)\r\n",
    "    category_i = all_categories.index(category)\r\n",
    "    confusion[category_i][guess_i] += 1\r\n",
    "\r\n",
    "# 모든 행을 합계로 나누어 정규화\r\n",
    "for i in range(n_categories):\r\n",
    "    confusion[i] = confusion[i] / confusion[i].sum()\r\n",
    "\r\n",
    "# 도식 설정\r\n",
    "fig = plt.figure()\r\n",
    "ax = fig.add_subplot(111)\r\n",
    "cax = ax.matshow(confusion.numpy())\r\n",
    "fig.colorbar(cax)\r\n",
    "\r\n",
    "# 축 설정\r\n",
    "ax.set_xticklabels([''] + all_categories, rotation=90)\r\n",
    "ax.set_yticklabels([''] + all_categories)\r\n",
    "\r\n",
    "# 모든 tick에서 레이블 지정\r\n",
    "ax.xaxis.set_major_locator(ticker.MultipleLocator(1))\r\n",
    "ax.yaxis.set_major_locator(ticker.MultipleLocator(1))\r\n",
    "\r\n",
    "# sphinx_gallery_thumbnail_number = 2\r\n",
    "plt.show()"
   ]
  },
  {
   "cell_type": "code",
   "execution_count": 64,
   "metadata": {},
   "outputs": [
    {
     "name": "stdout",
     "output_type": "stream",
     "text": [
      "\n",
      "> Satoshi\n",
      "(-1.10) Italian\n",
      "(-1.38) Polish\n",
      "(-1.85) Japanese\n",
      "\n",
      "> Jackson\n",
      "(-0.85) Scottish\n",
      "(-1.12) English\n",
      "(-1.77) Russian\n",
      "\n",
      "> ChulSoo\n",
      "(-0.95) Korean\n",
      "(-1.66) Spanish\n",
      "(-2.27) Scottish\n"
     ]
    }
   ],
   "source": [
    "def predict(input_line, n_predictions=3):\r\n",
    "    print('\\n> %s' % input_line)\r\n",
    "    with torch.no_grad():\r\n",
    "        output = evaluate(lineToTensor(input_line))\r\n",
    "\r\n",
    "        # Get top N categories\r\n",
    "        topv, topi = output.topk(n_predictions, 1, True)\r\n",
    "        predictions = []\r\n",
    "\r\n",
    "        for i in range(n_predictions):\r\n",
    "            value = topv[0][i].item()\r\n",
    "            category_index = topi[0][i].item()\r\n",
    "            print('(%.2f) %s' % (value, all_categories[category_index]))\r\n",
    "            predictions.append([value, all_categories[category_index]])\r\n",
    "\r\n",
    "predict('Satoshi')\r\n",
    "predict('Jackson')\r\n",
    "predict('ChulSoo')"
   ]
  }
 ],
 "metadata": {
  "interpreter": {
   "hash": "cdb0e1eaeae7d73f15a51853e3837c6ea3c1d6811a1c33886316680ce2998633"
  },
  "kernelspec": {
   "display_name": "Python 3.7.10 64-bit ('deep-learning-20': conda)",
   "name": "python3"
  },
  "language_info": {
   "codemirror_mode": {
    "name": "ipython",
    "version": 3
   },
   "file_extension": ".py",
   "mimetype": "text/x-python",
   "name": "python",
   "nbconvert_exporter": "python",
   "pygments_lexer": "ipython3",
   "version": "3.7.10"
  }
 },
 "nbformat": 4,
 "nbformat_minor": 5
}
