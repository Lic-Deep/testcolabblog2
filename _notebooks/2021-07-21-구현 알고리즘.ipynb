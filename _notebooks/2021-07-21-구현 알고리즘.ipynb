{
 "cells": [
  {
   "cell_type": "markdown",
   "metadata": {},
   "source": [
    "# \"구현 알고리즘\"\r\n",
    "> \"주요 알고리즘 이론(4)\"\r\n",
    "\r\n",
    "- toc: false\r\n",
    "- branch: master\r\n",
    "- badges: true\r\n",
    "- comments: true\r\n",
    "- categories: [coding, jupyter]"
   ]
  },
  {
   "cell_type": "markdown",
   "metadata": {},
   "source": [
    "# Chapter 4. 구현"
   ]
  },
  {
   "cell_type": "markdown",
   "metadata": {},
   "source": [
    "## 4-1. 상하좌우"
   ]
  },
  {
   "cell_type": "code",
   "execution_count": 1,
   "metadata": {},
   "outputs": [
    {
     "name": "stdout",
     "output_type": "stream",
     "text": [
      "3 4\n"
     ]
    }
   ],
   "source": [
    "# Page 111\r\n",
    "size = int(input())\r\n",
    "plan = list(map(str,input().split()))\r\n",
    "\r\n",
    "position = [1,1]\r\n",
    "\r\n",
    "for i in plan : \r\n",
    "  if i == 'R' :\r\n",
    "    position[0] += 1\r\n",
    "  if i == 'L' :\r\n",
    "    position[0] -= 1\r\n",
    "  if i == 'U' :\r\n",
    "    position[1] -= 1\r\n",
    "  if i == 'D' :\r\n",
    "    position[1] += 1\r\n",
    "  # if position[0] or position[1] == 0 :\r\n",
    "  if 0 in position : \r\n",
    "    position[position.index(0)] += 1\r\n",
    "  # elif position[0] or position[1] == size+1 :\r\n",
    "  if size+1 in position : \r\n",
    "    position[position.index(size+1)] -= 1\r\n",
    "print(position[1] , position[0])\r\n"
   ]
  },
  {
   "cell_type": "markdown",
   "metadata": {},
   "source": [
    "## 4-2 시각"
   ]
  },
  {
   "cell_type": "code",
   "execution_count": 2,
   "metadata": {},
   "outputs": [
    {
     "name": "stdout",
     "output_type": "stream",
     "text": [
      "11475\n"
     ]
    }
   ],
   "source": [
    "# Page 113\r\n",
    "N = int(input(5))\r\n",
    "count=0\r\n",
    "for i in range(N+1) : \r\n",
    "  for j in range(0,60) :\r\n",
    "    for k in range(0,60) :\r\n",
    "      if '3' in (str(i)+str(j)+str(k)) :\r\n",
    "        count+=1\r\n",
    "        \r\n",
    "print(count)"
   ]
  },
  {
   "cell_type": "markdown",
   "metadata": {},
   "source": [
    "## 왕실의 나이트\r\n",
    "- Concept : 나이트의 현재 위치가 주어지면 현재 위치에서 이동 경로를 더한 다음, 8 x 8 좌표 평면에 있는지 확인."
   ]
  },
  {
   "cell_type": "code",
   "execution_count": 57,
   "metadata": {},
   "outputs": [
    {
     "name": "stdout",
     "output_type": "stream",
     "text": [
      "3\n"
     ]
    }
   ],
   "source": [
    "input_data = input()\r\n",
    "row = int(input_data[1])\r\n",
    "column = int(ord(input_data[0])) - int(ord('a'))+1\r\n",
    "\r\n",
    "steps = [(-2,-1),(-1,-2),(1,-2),(2,-1),(2,1),(1,2),(-1,2),(-2,1)]\r\n",
    "\r\n",
    "result = 0\r\n",
    "for step in steps : \r\n",
    "    next_row = row + step[0]\r\n",
    "    next_column = column +step[1]\r\n",
    "    if next_row >=1 and next_row <=8 and next_column >=1 and next_column <=8 : \r\n",
    "        result +=1\r\n",
    "print(result)"
   ]
  },
  {
   "cell_type": "markdown",
   "metadata": {},
   "source": [
    "## 게임 개발\r\n"
   ]
  },
  {
   "cell_type": "code",
   "execution_count": 94,
   "metadata": {},
   "outputs": [],
   "source": [
    "N,M = list(map(int,input().split()))\r\n",
    "A,B,D = list(map(int,input().split()))\r\n",
    "field = []\r\n",
    "for i in range(N):\r\n",
    "    field.append(list(map(int,input().split())))"
   ]
  },
  {
   "cell_type": "code",
   "execution_count": 95,
   "metadata": {},
   "outputs": [],
   "source": [
    "def find(field,A,B,D) :\r\n",
    "    find_mat = [(-1,0),(0,1),(0,1),(0,-1)]\r\n",
    "    stop = 1 \r\n",
    "    for i in range(4) : \r\n",
    "        if 0<=A+find_mat[D][0]<=len(field)-1 and 0<=B+find_mat[D][1]<=len(field[0])-1 :  # 칸 밖으로 벗어나는 경우의 수 제외하기 위함\r\n",
    "            if field[A+find_mat[D][0]][B+find_mat[D][1]] == 0 : # 이동가능한 육지인지 확인 \r\n",
    "                stop = 0\r\n",
    "                break\r\n",
    "            if D==0 : \r\n",
    "                D=3\r\n",
    "            else : \r\n",
    "                D -= 1\r\n",
    "        else : \r\n",
    "            pass\r\n",
    "    return D,stop"
   ]
  },
  {
   "cell_type": "code",
   "execution_count": 96,
   "metadata": {},
   "outputs": [
    {
     "name": "stdout",
     "output_type": "stream",
     "text": [
      "3\n"
     ]
    }
   ],
   "source": [
    "count = 0\r\n",
    "while True :\r\n",
    "    field[A][B]==1 \r\n",
    "    count += 1\r\n",
    "    D , stop = find(field,A,B,D) # 방향 찾기\r\n",
    "    if stop == 1 : \r\n",
    "        break\r\n",
    "    # 방향전환\r\n",
    "    if D==0 :\r\n",
    "        D = 3\r\n",
    "    else : \r\n",
    "        D -=1\r\n",
    "    A = A+find_mat[D][0] # 이동\r\n",
    "    B = B+find_mat[D][1]\r\n",
    "    field[A][B]=1 \r\n",
    "print(count)"
   ]
  }
 ],
 "metadata": {
  "interpreter": {
   "hash": "cdb0e1eaeae7d73f15a51853e3837c6ea3c1d6811a1c33886316680ce2998633"
  },
  "kernelspec": {
   "display_name": "Python 3.7.10 64-bit ('deep-learning-20': conda)",
   "name": "python3"
  },
  "language_info": {
   "name": "python",
   "version": ""
  },
  "orig_nbformat": 4
 },
 "nbformat": 4,
 "nbformat_minor": 2
}