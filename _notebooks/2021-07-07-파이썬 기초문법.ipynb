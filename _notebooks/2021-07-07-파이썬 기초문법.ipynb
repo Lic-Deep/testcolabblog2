{
 "metadata": {
  "language_info": {
   "codemirror_mode": {
    "name": "ipython",
    "version": 3
   },
   "file_extension": ".py",
   "mimetype": "text/x-python",
   "name": "python",
   "nbconvert_exporter": "python",
   "pygments_lexer": "ipython3",
   "version": "3.8.5"
  },
  "orig_nbformat": 2,
  "kernelspec": {
   "name": "python3",
   "display_name": "Python 3",
   "language": "python"
  }
 },
 "nbformat": 4,
 "nbformat_minor": 2,
 "cells": [
  {
   "source": [
    "# \"코딩 테스트를 위한 파이썬 문법\"\n",
    "> \"이것이 취업을 위한 코딩테스트다 부록 A\"\n",
    "\n",
    "- toc: false\n",
    "- branch: master\n",
    "- badges: true\n",
    "- comments: true\n",
    "- categories: [coding, jupyter]"
   ],
   "cell_type": "markdown",
   "metadata": {}
  },
  {
   "source": [
    "# 코딩 테스트를 위한 파이썬 문법"
   ],
   "cell_type": "markdown",
   "metadata": {}
  },
  {
   "source": [
    "## 1. 자료형 "
   ],
   "cell_type": "markdown",
   "metadata": {}
  },
  {
   "source": [
    "- 수 자료형\n",
    "    - 큰 수 또는 무한의 수를 표현하기 위해서 유효숫자를 많이 사용함 (ex . 1000000 = 1e5)\n",
    "    - 2진수의 파이썬에서는 0.9를 정확히 표현할 수 있는 방법이 없다.\n",
    "    - 따라서 소수점 값을 비교하는 작업이 필요한 문제라면 round(숫자,반올림 하고자 하는 위치-1) 함수를 사용"
   ],
   "cell_type": "markdown",
   "metadata": {}
  },
  {
   "cell_type": "code",
   "execution_count": 2,
   "metadata": {},
   "outputs": [
    {
     "output_type": "stream",
     "name": "stdout",
     "text": [
      "100000.0\n123.46\n"
     ]
    }
   ],
   "source": [
    "a = 1e5\n",
    "print(a)\n",
    "print(round(123.456,2))"
   ]
  },
  {
   "source": [
    "- 리스트 컴프리헨션\n",
    "    - 대괄호 안에 조건문과 반복문을 넣는 방식으로 리스트를 초기화 할 수 있음\n",
    "    - ** 2차원 리스트를 초기화 할 때 매우 효과적으로 사용 할 수있다.**"
   ],
   "cell_type": "markdown",
   "metadata": {}
  },
  {
   "cell_type": "code",
   "execution_count": 6,
   "metadata": {},
   "outputs": [
    {
     "output_type": "stream",
     "name": "stdout",
     "text": [
      "[1, 3, 5, 7, 9, 11, 13, 15, 17, 19]\n[1, 4, 9, 16, 25, 36, 49, 64, 81]\n"
     ]
    }
   ],
   "source": [
    "a = [i for i in range(20) if i%2==1]\n",
    "print(a)\n",
    "b = [i**2 for i in range(1,10)]\n",
    "print(b)"
   ]
  },
  {
   "cell_type": "code",
   "execution_count": 9,
   "metadata": {},
   "outputs": [
    {
     "output_type": "stream",
     "name": "stdout",
     "text": [
      "[[0, 0, 0, 0], [0, 0, 0, 0], [0, 0, 0, 0]]\n"
     ]
    }
   ],
   "source": [
    "# N X M 크기의 2차원 리스트 초기화\n",
    "n = 3 \n",
    "m = 4 \n",
    "array = [[0]*m for _ in range(n)] # _는 반복을 위한 변수의 값을 무시할 때 사용\n",
    "print(array)"
   ]
  },
  {
   "source": [
    "- 문자열 자료형\n",
    "    - 백슬레시를 사용하면, 큰따옴표나 작은따옴표를 원하는 만큼 포함시킬 수 있음"
   ],
   "cell_type": "markdown",
   "metadata": {}
  },
  {
   "cell_type": "code",
   "execution_count": 12,
   "metadata": {},
   "outputs": [
    {
     "output_type": "execute_result",
     "data": {
      "text/plain": [
       "\"i'm a car's wheel\""
      ]
     },
     "metadata": {},
     "execution_count": 12
    }
   ],
   "source": [
    "'i\\'m a car\\'s wheel'"
   ]
  },
  {
   "source": [
    "- 튜플 자료형\n",
    "    - 튜플은 한 번 선언된 값을 변경할 수 없다.\n",
    "    - 리스트는 대괄호([])를 이용하지만, 튜플은 소괄호 (())를 이용\n",
    "    - **튜플 자료형은 그래프 알고리즘을 구현할 때 자주 사용 **"
   ],
   "cell_type": "markdown",
   "metadata": {}
  },
  {
   "source": [
    "- 사전 자료형\n",
    "    - 사전 자료형은 키와 값의 쌍을 데이터로 가지는 자료형\n",
    "    - 키-값 쌍으로 구성된 데이터를 처리함에 있어서 리스트보다 훨씬 바르게 동작한다는 점을 기억\n",
    "    - 사전 자료형에 특정한 원소가 있는지 검사할 때는 '원소 in 사전'의 형태를 사용"
   ],
   "cell_type": "markdown",
   "metadata": {}
  },
  {
   "source": [
    "- 집합 자료형\n",
    "    - 집합은 기본적으로 리스트 혹은 문자열을 이용해서 만듬\n",
    "    - 중복을 허용하지 않고, 순서가 없다는 것이 특징\n",
    "    - '특정한 데이터가 이미 등장한 적이 있는지 여부'를 체크할 때 매우 효과적으로 사용할 수 있음\n",
    "    - 합집합 | , 교집합 &, 차집합 - 기호 사용\n",
    "    - 값을 추가할 때는 add()함수, 여러개의 값을 한꺼번에 추가할 때는 update()함수, 특정한 값을 제거할 때는 remove()"
   ],
   "cell_type": "markdown",
   "metadata": {}
  },
  {
   "cell_type": "code",
   "execution_count": 15,
   "metadata": {},
   "outputs": [
    {
     "output_type": "stream",
     "name": "stdout",
     "text": [
      "{1, 2, 3, 4, 5, 6, 7}\n{3, 4, 5}\n{1, 2}\n"
     ]
    }
   ],
   "source": [
    "a = set([1,2,3,4,5])\n",
    "b = set([3,4,5,6,7])\n",
    "print(a|b)\n",
    "print(a&b)\n",
    "print(a-b)"
   ]
  },
  {
   "source": [
    "## 2. 조건문\n",
    "- 파이썬에서 조건문을 작성할 때는 if ~ elif ~ else문을 이용"
   ],
   "cell_type": "markdown",
   "metadata": {}
  },
  {
   "cell_type": "code",
   "execution_count": 19,
   "metadata": {},
   "outputs": [
    {
     "output_type": "stream",
     "name": "stdout",
     "text": [
      "B 학점\n"
     ]
    }
   ],
   "source": [
    "score = 85 \n",
    "if score >= 90 : \n",
    "    print('A 학점')\n",
    "elif score >=80 : \n",
    "    print('B 학점')\n",
    "elif score >= 70 : \n",
    "    print('C 학점')\n",
    "else : \n",
    "    print('F 학점')"
   ]
  },
  {
   "source": [
    "- 파이썬에서 조건문의 값이 참이라고 해도, 아무것도 처리하고 싶지 않을 때에는 pass 문을 이용할 수 있다."
   ],
   "cell_type": "markdown",
   "metadata": {}
  },
  {
   "cell_type": "code",
   "execution_count": 21,
   "metadata": {},
   "outputs": [
    {
     "output_type": "stream",
     "name": "stdout",
     "text": [
      "프로그램을 종료합니다.\n"
     ]
    }
   ],
   "source": [
    "score = 85 \n",
    "if score >= 80 : \n",
    "    pass\n",
    "else : \n",
    "    print('성적이 80점 미만입니다.')\n",
    "print('프로그램을 종료합니다.')"
   ]
  },
  {
   "source": [
    "조건문에서 실행될 소스코드가 한 줄인 경우, 굳이 줄 바꿈을 하지 않고도 간략하게 표현할 수 있다."
   ],
   "cell_type": "markdown",
   "metadata": {}
  },
  {
   "cell_type": "code",
   "execution_count": 23,
   "metadata": {},
   "outputs": [
    {
     "output_type": "execute_result",
     "data": {
      "text/plain": [
       "'Success'"
      ]
     },
     "metadata": {},
     "execution_count": 23
    }
   ],
   "source": [
    "score =85\n",
    "if score >= 80 : result='Success'\n",
    "else : result = 'Fail'\n",
    "result"
   ]
  },
  {
   "source": [
    "조건부 표현식은 리스트에 있는 원소의 값을 변경해서, 또 다른 리스트를 만들고자 할 때 매우 간결하게 사용가능"
   ],
   "cell_type": "markdown",
   "metadata": {}
  },
  {
   "cell_type": "code",
   "execution_count": 25,
   "metadata": {},
   "outputs": [
    {
     "output_type": "stream",
     "name": "stdout",
     "text": [
      "[1, 2, 4]\n"
     ]
    }
   ],
   "source": [
    "a = [1,2,3,4,5,5,5]\n",
    "remove_set = {3,5}\n",
    "result = [i for i in a if i not in remove_set]\n",
    "print(result)"
   ]
  },
  {
   "source": [
    "## 3. 반복문\n",
    "- 반복문 안에서 continue를 만나면 프로그램의 흐름은 반복문의 처음으로 돌아간다."
   ],
   "cell_type": "markdown",
   "metadata": {}
  },
  {
   "source": [
    "## 4. 함수\n",
    "- 함수를 사용하지 않으면 소스코드를 매번 일일이 작성해야 하므로, 소스코드가 길어지며 이로 인해 프로그램의 크기가 비효율적으로 커짐\n",
    "- 동일한 알고리즘을 반복적으로 수행해야 할 때 함수는 중요하게 사용됨\n",
    "- 함수 안에서 함수 밖의 변수 데이터를 변경해야ㅕ 하는 경우가 있느넫, 이때는 함수에서 **global** 키워드를 이용하면 된다"
   ],
   "cell_type": "markdown",
   "metadata": {}
  },
  {
   "cell_type": "code",
   "execution_count": 27,
   "metadata": {},
   "outputs": [
    {
     "output_type": "stream",
     "name": "stdout",
     "text": [
      "10\n"
     ]
    }
   ],
   "source": [
    "a = 0\n",
    "def func() : \n",
    "    global a\n",
    "    a += 1 \n",
    "\n",
    "for i in range(10) : \n",
    "    func()\n",
    "print(a)"
   ]
  },
  {
   "source": [
    "- 람다 표현식을 이용하면 함수를 매우 간단하게 작성하여 적용 가능. \n",
    "- 이러한 람다식은 파이썬의 정렬 라이브러리를 사용할 때, 정렬 기준(Key)을 설정할 때에도 자주 사용"
   ],
   "cell_type": "markdown",
   "metadata": {}
  },
  {
   "cell_type": "code",
   "execution_count": 29,
   "metadata": {},
   "outputs": [
    {
     "output_type": "stream",
     "name": "stdout",
     "text": [
      "10\n"
     ]
    }
   ],
   "source": [
    "print((lambda a,b : a+b)(3,7))"
   ]
  },
  {
   "source": [
    "## 5. 입출력\n",
    "- 여러개의 데이터를 입력받을 때는 데이터가 공백으로 구분되는 경우가 많다. \n",
    "- 그래서 입력받은 문자열을 띄어쓰기로 구분해 각각 정수 자료형의 데이터로 저장하는 코드의 사용 빈도가 매우 높음\n",
    "- 이때는 list(map(int,input().split()))을 사용\n",
    "- 입력의 개수가 많은 경우에는 sys 라이브러리에 정의되어 있는 sys.stdin.readlin() 함수를 이용.\n",
    "- sys 라이브러리르 사용 할 때는 한줄 입력을 받고 나서 rstrip() 함수를 꼭 호출\n",
    "- readline()으로 입력하면 입력 후 엔터가 줄바꿈 기호로 입력되는데, 이 공백문자를 제거하려면 rstrip()함수를 사용해야 함"
   ],
   "cell_type": "markdown",
   "metadata": {}
  },
  {
   "cell_type": "code",
   "execution_count": 34,
   "metadata": {},
   "outputs": [
    {
     "output_type": "stream",
     "name": "stdout",
     "text": [
      "\n"
     ]
    }
   ],
   "source": [
    "import sys\n",
    "data = sys.stdin.readline().rstrip()\n",
    "print(data)"
   ]
  },
  {
   "source": [
    "## 6. 주요 라이브러리의 문법과 유의점\n",
    "- 표준 라이브러리 : 특정한 프로그래밍 언어에서 자주 사용되는 표준 소스코드를 미리 구현해 놓은 라이브러리\n",
    "- 내장함수, itertools, heapq , bisect, collections 등\n"
   ],
   "cell_type": "markdown",
   "metadata": {}
  },
  {
   "source": [],
   "cell_type": "markdown",
   "metadata": {}
  },
  {
   "source": [
    "- 내장 함수\n",
    "    - eval :수학 수식이 문자열 형시그올 들어오면 해당 수식을 계산한 결과를 반환"
   ],
   "cell_type": "markdown",
   "metadata": {}
  },
  {
   "cell_type": "code",
   "execution_count": 35,
   "metadata": {},
   "outputs": [
    {
     "output_type": "execute_result",
     "data": {
      "text/plain": [
       "56"
      ]
     },
     "metadata": {},
     "execution_count": 35
    }
   ],
   "source": [
    "eval(\"(3+5)*7\")"
   ]
  },
  {
   "source": [
    "- 파이썬에서는 리스트의 원소로 리스트나 튜플이 존재할 때 특정한 기준에 따라서 정렬을 수행할 수 있다\n",
    "- 정렬 기준은 key 속성을 이용해 명시할 수 있다."
   ],
   "cell_type": "markdown",
   "metadata": {}
  },
  {
   "cell_type": "code",
   "execution_count": 39,
   "metadata": {},
   "outputs": [
    {
     "output_type": "execute_result",
     "data": {
      "text/plain": [
       "[('이순신', 75), ('아무개', 50), ('홍길동', 35)]"
      ]
     },
     "metadata": {},
     "execution_count": 39
    }
   ],
   "source": [
    "sorted([('홍길동',35),('이순신',75),('아무개',50)], key = lambda x:x[1],reverse=True)"
   ]
  },
  {
   "source": [
    "- itertools\n",
    "    - permutations : r개의 데이터를 뽑아 일렬로 나열하는 모든 경우(순열)을 계싼\n",
    "    - combinations : r개의 데이터를 뽑아 순서를 고려하지 않고 나열하는 모든 경우(조합)를 계산\n",
    "    - product : r개의 데이터를 뽑아 일렬로 나열하는 모든 경우(순열)을 계산. 다만 원소를 중복하여 뽑는다. \n",
    "    - combinations_with_replacements : r개의 데이터를 뽑아 순서를 고려하지 않고 나열하는 모든 경우(조합)를 계산. 다만 원소를 중복하여 뽑는다. \n",
    "    - 모두 클레스이므로 객체 초기화 이후에는 리스트 자료형으로 변환하여 사용"
   ],
   "cell_type": "markdown",
   "metadata": {}
  },
  {
   "cell_type": "code",
   "execution_count": 49,
   "metadata": {},
   "outputs": [
    {
     "output_type": "stream",
     "name": "stdout",
     "text": [
      "[('A', 'B', 'C'), ('A', 'C', 'B'), ('B', 'A', 'C'), ('B', 'C', 'A'), ('C', 'A', 'B'), ('C', 'B', 'A')]\n[('A', 'B'), ('A', 'C'), ('B', 'C')]\n[('A', 'A'), ('A', 'B'), ('A', 'C'), ('B', 'A'), ('B', 'B'), ('B', 'C'), ('C', 'A'), ('C', 'B'), ('C', 'C')]\n[('A', 'A'), ('A', 'B'), ('A', 'C'), ('B', 'B'), ('B', 'C'), ('C', 'C')]\n"
     ]
    }
   ],
   "source": [
    "from itertools import permutations , combinations, product , combinations_with_replacement\n",
    "data = ['A','B','C']\n",
    "print(list(permutations(data,3)))\n",
    "print(list(combinations(data,2)))\n",
    "print(list(product(data,repeat=2)))\n",
    "print(list(combinations_with_replacement(data,2)))"
   ]
  },
  {
   "source": [
    "- heapq\n",
    "    - 우선순위 큐 기능을 구현하고자 할 때 사용\n",
    "    - 힙에 원소를 삽입할 때 : heapq.heappush()\n",
    "    - 힙에서 원소를 꺼내고자 할 때 : heapq.heappop()"
   ],
   "cell_type": "markdown",
   "metadata": {}
  },
  {
   "cell_type": "code",
   "execution_count": 51,
   "metadata": {},
   "outputs": [
    {
     "output_type": "stream",
     "name": "stdout",
     "text": [
      "[0, 1, 2, 3, 4, 5, 6, 7, 8, 9]\n"
     ]
    }
   ],
   "source": [
    "import heapq\n",
    "def heapsort(iterable) : \n",
    "    h ,result = [], []\n",
    "    # 모든 원소를 차례대로 힙에 삽입\n",
    "    for value in iterable : \n",
    "        heapq.heappush(h,value)\n",
    "    # 힙에 삽입된 모든 원솔ㄹ 차례대로 꺼내어 담기\n",
    "    for i in range(len(h)) :\n",
    "        result.append(heapq.heappop(h))\n",
    "    return result\n",
    "result = heapsort([1,3,5,7,9,2,4,6,8,0])\n",
    "print(result)"
   ]
  },
  {
   "source": [
    "- bisect\n",
    "    - 이진 탐색을 쉽게 구현할 수 잇도록 제공\n",
    "    - 정렬된배열에서 특정한 원소를 찾아야 할 때 매우 효과적\n",
    "    - bisect_left(a,x) : 정렬된 순서를 유지하면서 리스트 a에 데이터 x를 삽입할 가장 왼쪽 인덱스 찾는 메서드\n",
    "    - bisect_right(a,x) : 정렬된 순서를 유지하면서 리스트 a에 데이터 x를 삽입할 가장 오른쪽 인덱스 찾는 메서드\n",
    "    "
   ],
   "cell_type": "markdown",
   "metadata": {}
  },
  {
   "cell_type": "code",
   "execution_count": 53,
   "metadata": {},
   "outputs": [
    {
     "output_type": "stream",
     "name": "stdout",
     "text": [
      "2\n6\n"
     ]
    }
   ],
   "source": [
    "from bisect import bisect_left, bisect_right\n",
    "def count_by_range(a,left_value,right_value) : \n",
    "    right_index = bisect_right(a,right_value)\n",
    "    left_index = bisect_left(a,left_value)\n",
    "    return right_index - left_index\n",
    "a= [1,2,3,3,3,3,4,4,8,9]\n",
    "print(count_by_range(a,4,4))\n",
    "print(count_by_range(a,-1,3))"
   ]
  },
  {
   "source": [
    "- collections.deque\n",
    "    - 파이썬에서는 deque를 사용해 큐를 구현\n",
    "    - deque는 연속적으로 나열된 데이터의 시작 부분이나 끝부분에 데이터를 삽입하거나 삭제할 때 매우 효과적으로 사용\n",
    "    - popleft() : 첫번째 원소 제거할 떄\n",
    "    - pop() : 마지막 원소를 제거할 때\n",
    "    - appendleft(x) : 첫번째 인덱스에 x를 추가할 때\n",
    "    - append(X) : 마지막 인덱스에 x를 추가할\n",
    "    - 따라서 deque를 큐 자료구조로 이용할 때, 원소를 삽입할 때에는 append()를 사용하고 원소를 사겢할 때에는 popleft()를 사용하면 된다\n",
    "- collections.Counter\n",
    "    - Counter는 등장 횟수를 세는 기능\n"
   ],
   "cell_type": "markdown",
   "metadata": {}
  },
  {
   "cell_type": "code",
   "execution_count": 56,
   "metadata": {},
   "outputs": [
    {
     "output_type": "stream",
     "name": "stdout",
     "text": [
      "3\n2\n1\n"
     ]
    }
   ],
   "source": [
    "from collections import Counter\n",
    "counter = Counter(['red','blue','red','green','blue','blue'])\n",
    "print(counter['blue'])\n",
    "print(counter['red'])\n",
    "print(counter['green'])"
   ]
  },
  {
   "source": [
    "- math \n",
    "    - 자주 사용되는 수학적인 기능을 포함하고 있는 라이브러리\n",
    "    - 펙토리얼, 제곱근, 최대공약수 등을 계산해주느 기능 포함"
   ],
   "cell_type": "markdown",
   "metadata": {}
  },
  {
   "cell_type": "code",
   "execution_count": 57,
   "metadata": {},
   "outputs": [
    {
     "output_type": "stream",
     "name": "stdout",
     "text": [
      "120\n3.0\n7\n3.141592653589793\n2.718281828459045\n"
     ]
    }
   ],
   "source": [
    "import math\n",
    "print(math.factorial(5))\n",
    "print(math.sqrt(9))\n",
    "print(math.gcd(21,14)) \n",
    "print(math.pi)\n",
    "print(math.e)"
   ]
  },
  {
   "source": [
    "## 7. 자신만의 알고리즘 노트 만들기\n",
    "- 모르는 문제나 어려운 문제를 만났을 때는 문제를 복습하면서 반드시 소스코드를 정리하는 것을 추천\n",
    "- 소스코드는 개인 문서에 일일이 기록할 수도 있지만, 깃허브와 같은 사이트에 기록하는 방법을 추천\n",
    "- 라이브러리를 만들 때는 단순히 함수만 작성하는 것보다 해당 함수의 사용 예시(방법)까지 같이 기록해 놓는 것을 추천"
   ],
   "cell_type": "markdown",
   "metadata": {}
  }
 ]
}