{
 "cells": [
  {
   "cell_type": "markdown",
   "source": [
    "# \"이진 탐색\"\r\n",
    "> \"이진 탐색 개념\"\r\n",
    "\r\n",
    "- toc: false\r\n",
    "- branch: master\r\n",
    "- badges: true\r\n",
    "- comments: true\r\n",
    "- categories: [coding, jupyter]"
   ],
   "metadata": {}
  },
  {
   "cell_type": "markdown",
   "source": [
    "## 1.범위를 반씩 좁혀가는 탐색\r\n",
    "\r\n",
    "### 순차 탐색\r\n",
    "\\* 순차 탐색 : 리스트 안에 있는 특정한 데이터를 찾기 위해서 **앞에서부터 데이터를 하나씩 차례대로 확인하는 방법**\r\n",
    "\r\n",
    "\\* 보통 정렬되지 않은 리스트에서 데이터를 찾아야 할 때 사용\r\n",
    "\r\n",
    "\\* 순차 탐색은 데이터 정렬 여부와 상관없이 가장 앞에 있는 원소부터 하나씩 확인해야 함\r\n",
    "\r\n",
    "\\* 데이터 개수가 N개일 때 최대 N번의 비교 연산이 필요하므로 순차 탐색의 최악의 경우 시간 복잡도는 O(N)이다."
   ],
   "metadata": {}
  },
  {
   "cell_type": "code",
   "execution_count": 2,
   "source": [
    "# 순차 탐색 소스코드\r\n",
    "def sequential_search(n, target, array) : \r\n",
    "    for i in range(n) : \r\n",
    "        if array[i] ==target : \r\n",
    "            return i+1\r\n",
    "\r\n",
    "print('생성할 원소의 개수를 입력한 다음 한 칸 띄고 찾을 문자열을 입력하세요')\r\n",
    "input_data = input().split()\r\n",
    "n = int(input_data[0])\r\n",
    "target = input_data[1]\r\n",
    "\r\n",
    "print('앞서 적은 원소 개수만큼 문자열을 입력하세요. 구분은 띄어쓰기 한 칸으로 합니다.')\r\n",
    "array = input().split()\r\n",
    "\r\n",
    "print(sequential_search(n, target, array))"
   ],
   "outputs": [
    {
     "output_type": "stream",
     "name": "stdout",
     "text": [
      "생성할 원소의 개수를 입력한 다음 한 칸 띄고 찾을 문자열을 입력하세요\n",
      "앞서 적은 원소 개수만큼 문자열을 입력하세요. 구분은 띄어쓰기 한 칸으로 합니다.\n",
      "3\n"
     ]
    }
   ],
   "metadata": {}
  },
  {
   "cell_type": "markdown",
   "source": [
    "### 이진 탐색 : 반으로 쪼개면서 탐색하기\r\n",
    "\r\n",
    "\\* 이진 탐색은 배열 **내부의 데이터가 정렬되어 있어야만 사용**할 수 있는 알고리즘 \r\n",
    "\r\n",
    "\\* 탐색 범위를 절반씩 좁혀가며 데이터를 탐색하는 특징이 있다.\r\n",
    "\r\n",
    "\\* 이진 탐색은 위치를 나타내는 변수 3개를 사용하는데 탐색하고자 하는 범위의 시작점, 끝점, 그리고 중간점이다. \r\n",
    "\r\n",
    "\\* 찾으려는 데이터와중간점 위치에 있는 데이터를 반복적으로 비교해서 원하는 데이터를 찾음\r\n",
    "\r\n",
    "\\* 이진 탐색은 한 번 확인할 때마다 확인하는 원소의 개수가 절반씩 줄어든다는 점에서 **시간 복잡도가 O(logN)**이다. "
   ],
   "metadata": {}
  },
  {
   "cell_type": "code",
   "execution_count": 13,
   "source": [
    "# 재귀함수로 구현한 이진 탐색 소스코드\r\n",
    "\r\n",
    "def binary_search(target,array,start,end) : \r\n",
    "    if start > end : \r\n",
    "        return None\r\n",
    "\r\n",
    "    mid = (start+end)//2\r\n",
    "    if array[mid] == target : \r\n",
    "        return mid\r\n",
    "    elif array[mid] > target : \r\n",
    "        return binary_search(target,array,start,mid-1)\r\n",
    "    else :\r\n",
    "        return binary_search(target,array,mid+1,end)\r\n",
    "\r\n",
    "n, target = list(map(int,input().split()))\r\n",
    "array = list(map(int,input().split()))\r\n",
    "\r\n",
    "result = binary_search(target,array,0,n-1)\r\n",
    "if result == None : \r\n",
    "    print('원소가 존재하지 않습니다.')\r\n",
    "else : \r\n",
    "    print(result+1)"
   ],
   "outputs": [
    {
     "output_type": "stream",
     "name": "stdout",
     "text": [
      "4\n"
     ]
    }
   ],
   "metadata": {}
  },
  {
   "cell_type": "code",
   "execution_count": 15,
   "source": [
    "# 반복문으로 구현한 이진 탐색 소스코드\r\n",
    "def binary_search(target, array, start, end) : \r\n",
    "    while start <= end : \r\n",
    "        mid = (start+end)//2\r\n",
    "        if array[mid] == target : \r\n",
    "            return mid\r\n",
    "        elif array[mid] > target: \r\n",
    "            end = mid-1\r\n",
    "        else : \r\n",
    "            start = mid+1\r\n",
    "    return None\r\n",
    "\r\n",
    "n, target = list(map(int,input().split()))\r\n",
    "array = list(map(int,input().split()))\r\n",
    "\r\n",
    "result = binary_search(target,array,0,n-1)\r\n",
    "\r\n",
    "if result == None : \r\n",
    "    print('원소가 존재하지 않습니다.')\r\n",
    "else : \r\n",
    "    print(result+1)\r\n",
    "        "
   ],
   "outputs": [
    {
     "output_type": "stream",
     "name": "stdout",
     "text": [
      "4\n"
     ]
    }
   ],
   "metadata": {}
  },
  {
   "cell_type": "markdown",
   "source": [
    "### 코딩 테스트에서의 이진 탐색\r\n",
    "\r\n",
    "/* 이진 탐색은 코딩 테스트에서 단골로 나오는 문제이니 가급적 외우길 권함.\r\n",
    "\r\n",
    "/* 코딩 테스트의 이진 탐색 문제는 탐색 범위가 큰 상황에서의 탐색을 가정하는 문제가 많다. \r\n",
    "\r\n",
    "/* 따라서 **탐색 범위가 2,000만을 넘어가면 이진 탐색으로 문제에 접근**해보길 권장.\r\n",
    "\r\n",
    "/* 데이터 개수나 값이 1,000만 단위 이상으로 넘어가면 이진 탐색과 같이 O(logN)의 속도를 내야 하는 알고리즘을 떠올려야 문제를 풀 수 있는 경우가 많다는 점을 기억."
   ],
   "metadata": {}
  },
  {
   "cell_type": "markdown",
   "source": [
    "### 트리 자료구조\r\n",
    "\r\n",
    "/* 트리 자료구조는 노드와 노드의 연결로 표현하며 여기에서 노드는 정보의 단위로서 어떤한 정보를 가지고 있는 개체.\r\n",
    "\r\n",
    "/* 많은 양의 데이터를 관리하기 위한 목적으로 사용.\r\n",
    "\r\n",
    "/* 트리에서 일부를 떼어내도 트리구조이며 이를 서브트리라 함\r\n",
    "\r\n",
    "/* 트리는 파일 시스템과 같이 계층적이고 정렬된 데이터를 다루기에 적합하다. \r\n",
    "\r\n",
    "![image](https://gmlwjd9405.github.io/images/data-structure-tree/tree-terms.png)"
   ],
   "metadata": {}
  },
  {
   "cell_type": "markdown",
   "source": [
    "### 이진 탐색 트리\r\n",
    "\r\n",
    "/* 이진 탐색 트리 특징\r\n",
    "- 부모 노드보다 왼쪽 자식 노드가 작다.\r\n",
    "- 부모 노드보다 오른쪽 자식 노드가 크다. \r\n",
    "\r\n",
    "/* 이진 탐색 알고리즘과 같은 방식으로 타겟 값의 위치를 탐색할 수 있음\r\n",
    "\r\n",
    "![image](https://i.imgur.com/SSusVoP.png)"
   ],
   "metadata": {}
  },
  {
   "cell_type": "markdown",
   "source": [
    "### 빠르게 입력받기\r\n",
    "\r\n",
    "/* 이진 탐색 문제는 입력 데이터가 많거나, 탐색 범위가 매우 넓은 편.\r\n",
    "\r\n",
    "/* 데이터의 개수가 1,000만 개를 넘어가거나 탐색 범위의 크기가 1,000억 이상이라면 이진 탐색 알고리즘 의심\r\n",
    "\r\n",
    "/* 입력 데이터가 많은 문제는 input 함수를 사용하면 동작 속도가 느려서 시간 초과로 오답 판정을 받을 수 있다.\r\n",
    "\r\n",
    "/* 입력 데이터가 많은 문제는 sys 라이브러리의 readline() 함수를 이용하면 시간 초과를 피할 수 있다. "
   ],
   "metadata": {}
  },
  {
   "cell_type": "code",
   "execution_count": 22,
   "source": [
    "# 한 줄 입력받아 출력하는 소스 코드\r\n",
    "import sys\r\n",
    "input_data = sys.stdin.readline().rstrip()\r\n",
    "\r\n",
    "print(input_data)"
   ],
   "outputs": [
    {
     "output_type": "stream",
     "name": "stdout",
     "text": [
      "\n"
     ]
    }
   ],
   "metadata": {}
  },
  {
   "cell_type": "markdown",
   "source": [
    "## 2. 부품 찾기\r\n"
   ],
   "metadata": {}
  },
  {
   "cell_type": "code",
   "execution_count": 21,
   "source": [
    "## 2. 부품 찾기\r\n",
    "def binary_search(target,array,start,end) : \r\n",
    "    while start <= end : \r\n",
    "        mid = (start+end)//2\r\n",
    "        if array[mid] == target : \r\n",
    "            return mid\r\n",
    "        elif array[mid] < target : \r\n",
    "            start = mid +1\r\n",
    "        else : \r\n",
    "            end = mid-1\r\n",
    "    return None\r\n",
    "\r\n",
    "N = int(input())\r\n",
    "N_list = list(map(int,input().split()))\r\n",
    "\r\n",
    "M = int(input())\r\n",
    "M_list = list(map(int,input().split()))\r\n",
    "\r\n",
    "N_list.sort()\r\n",
    "\r\n",
    "result=0\r\n",
    "for com in M_list : \r\n",
    "    if binary_search(com,N_list,0,N-1) !=None :\r\n",
    "        print('yes' , end=' ')\r\n",
    "    else : \r\n",
    "        print('no' , end=' ')\r\n",
    "    "
   ],
   "outputs": [
    {
     "output_type": "stream",
     "name": "stdout",
     "text": [
      "no yes yes "
     ]
    }
   ],
   "metadata": {}
  },
  {
   "cell_type": "code",
   "execution_count": 22,
   "source": [
    "N_list"
   ],
   "outputs": [
    {
     "output_type": "execute_result",
     "data": {
      "text/plain": [
       "[2, 3, 7, 8, 9]"
      ]
     },
     "metadata": {},
     "execution_count": 22
    }
   ],
   "metadata": {}
  },
  {
   "cell_type": "code",
   "execution_count": 26,
   "source": [
    "if 4 in N_list : \r\n",
    "    print('yes')\r\n",
    "else : \r\n",
    "    print('no')"
   ],
   "outputs": [
    {
     "output_type": "stream",
     "name": "stdout",
     "text": [
      "no\n"
     ]
    }
   ],
   "metadata": {}
  },
  {
   "cell_type": "markdown",
   "source": [
    "### 집합 자료형으로 풀기\r\n",
    "/* 이 문제는 단순히 특정한 수가 한 번이라도 등장했는지를 검사하면 되므로 집합 자료형을 이용해서 문제를 해결가능.\r\n",
    "\r\n",
    "/* set() 함수는 집합 자료형을 초기화할 때 사용.\r\n",
    "\r\n",
    "/* 이러한 집합 자료형은 단순히 특정한 데이터가 존재하는지 검사할 때에 매우 효과적으로 사용할 수 있다. "
   ],
   "metadata": {}
  },
  {
   "cell_type": "code",
   "execution_count": 19,
   "source": [
    "# 집합 자료형으로 풀기\r\n",
    "\r\n",
    "N = int(input())\r\n",
    "N_list = set(map(int,input().split()))\r\n",
    "\r\n",
    "M = int(input())\r\n",
    "M_list = list(map(int,input().split()))\r\n",
    "\r\n",
    "for com in M_list : \r\n",
    "    if com in N_list : \r\n",
    "        print('yes',end=' ')\r\n",
    "    else : \r\n",
    "        print('no',end=' ')\r\n",
    "\r\n"
   ],
   "outputs": [
    {
     "output_type": "stream",
     "name": "stdout",
     "text": [
      "no yes yes "
     ]
    }
   ],
   "metadata": {}
  },
  {
   "cell_type": "code",
   "execution_count": 20,
   "source": [
    "N_list # set함수를 사용하면 자동으로 오름차순으로 정렬. "
   ],
   "outputs": [
    {
     "output_type": "execute_result",
     "data": {
      "text/plain": [
       "{2, 3, 7, 8, 9}"
      ]
     },
     "metadata": {},
     "execution_count": 20
    }
   ],
   "metadata": {}
  },
  {
   "cell_type": "code",
   "execution_count": 50,
   "source": [
    "import numpy as np\r\n",
    "N, length = list(map(int,input().split()))\r\n",
    "dduk_list = list(map(int,input().split()))\r\n",
    "\r\n",
    "dduk_list.sort()\r\n",
    "\r\n",
    "candidate = [x+1 for x in range(dduk_list[-1])]\r\n",
    "\r\n",
    "def max_length_search(length, candidate , start , end,dduk_list) : \r\n",
    "    while start <= end : \r\n",
    "        mid = (start+end)//2\r\n",
    "        \r\n",
    "        cut_length = sum(np.array(dduk_list)-candidate[mid])\r\n",
    "        if cut_length < length : \r\n",
    "            start = mid +1 \r\n",
    "        else : \r\n",
    "            # end = mid -1\r\n",
    "            return candidate[end]\r\n",
    "    return candidate[end]\r\n",
    "\r\n",
    "max_length = max_length_search(length, candidate , 0 , len(candidate)-1, dduk_list)\r\n",
    "\r\n",
    "print(max_length)\r\n"
   ],
   "outputs": [
    {
     "output_type": "stream",
     "name": "stdout",
     "text": [
      "19\n"
     ]
    }
   ],
   "metadata": {}
  },
  {
   "cell_type": "code",
   "execution_count": 46,
   "source": [
    "[1]*len(dduk_list)"
   ],
   "outputs": [
    {
     "output_type": "execute_result",
     "data": {
      "text/plain": [
       "[1, 1, 1, 1]"
      ]
     },
     "metadata": {},
     "execution_count": 46
    }
   ],
   "metadata": {}
  },
  {
   "cell_type": "code",
   "execution_count": 47,
   "source": [
    "dduk_list"
   ],
   "outputs": [
    {
     "output_type": "execute_result",
     "data": {
      "text/plain": [
       "[10, 15, 17, 19]"
      ]
     },
     "metadata": {},
     "execution_count": 47
    }
   ],
   "metadata": {}
  },
  {
   "cell_type": "code",
   "execution_count": 45,
   "source": [
    "dduk_list-[1]*len(dduk_list)"
   ],
   "outputs": [
    {
     "output_type": "error",
     "ename": "TypeError",
     "evalue": "unsupported operand type(s) for -: 'list' and 'list'",
     "traceback": [
      "\u001b[1;31m---------------------------------------------------------------------------\u001b[0m",
      "\u001b[1;31mTypeError\u001b[0m                                 Traceback (most recent call last)",
      "\u001b[1;32m<ipython-input-45-e0c38fb05991>\u001b[0m in \u001b[0;36m<module>\u001b[1;34m\u001b[0m\n\u001b[1;32m----> 1\u001b[1;33m \u001b[0mdduk_list\u001b[0m\u001b[1;33m-\u001b[0m\u001b[1;33m[\u001b[0m\u001b[1;36m1\u001b[0m\u001b[1;33m]\u001b[0m\u001b[1;33m*\u001b[0m\u001b[0mlen\u001b[0m\u001b[1;33m(\u001b[0m\u001b[0mdduk_list\u001b[0m\u001b[1;33m)\u001b[0m\u001b[1;33m\u001b[0m\u001b[1;33m\u001b[0m\u001b[0m\n\u001b[0m",
      "\u001b[1;31mTypeError\u001b[0m: unsupported operand type(s) for -: 'list' and 'list'"
     ]
    }
   ],
   "metadata": {}
  }
 ],
 "metadata": {
  "orig_nbformat": 4,
  "language_info": {
   "name": "python",
   "version": "3.7.10",
   "mimetype": "text/x-python",
   "codemirror_mode": {
    "name": "ipython",
    "version": 3
   },
   "pygments_lexer": "ipython3",
   "nbconvert_exporter": "python",
   "file_extension": ".py"
  },
  "kernelspec": {
   "name": "python3",
   "display_name": "Python 3.7.10 64-bit ('deep-learning-20': conda)"
  },
  "interpreter": {
   "hash": "cdb0e1eaeae7d73f15a51853e3837c6ea3c1d6811a1c33886316680ce2998633"
  }
 },
 "nbformat": 4,
 "nbformat_minor": 2
}