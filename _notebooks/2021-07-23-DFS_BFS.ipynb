{
 "cells": [
  {
   "cell_type": "markdown",
   "source": [
    "# \"DFS/BFS\"\r\n",
    "> \"자료구조 기초/ DFS/ BFS\"\r\n",
    "\r\n",
    "- toc: false\r\n",
    "- branch: master\r\n",
    "- badges: true\r\n",
    "- comments: true\r\n",
    "- categories: [coding, jupyter]"
   ],
   "metadata": {}
  },
  {
   "cell_type": "markdown",
   "source": [
    "## 1. 꼭 필요한 자료구조 기초\r\n",
    "### 탐색 : 많은 양의 데이터 중에서 원하는 데이터를 찾는 과정.\r\n",
    "- 프로그래밍에서는 그래프, 트리 등의 자료구조 안에서 탐색을 하는 문제를 자주 다룸\r\n",
    "### 자료구조 : 데이터를 표현하고 관리하고 처리하기 위한 구조\r\n",
    "- 스텍과 큐는 자료구조의 기초 개념으로 삽입, 삭제의 함수로 구성\r\n",
    "    - 삽입(Push) : 데이터를 삽입 \r\n",
    "    - 삭제(Pop) : 데이터를 삭제"
   ],
   "metadata": {}
  },
  {
   "cell_type": "markdown",
   "source": [
    "### 스텍(Stack)\r\n",
    "- 박스 또는 책 쌓기에 비유 가능\r\n",
    "- 선입후출구조 또는 후입선출구조라고 함\r\n",
    "- 입구와 출구가 동일한 형태로 스택을 시각화할 수 있음\r\n",
    "\r\n",
    "![image](https://img1.daumcdn.net/thumb/R1280x0/?scode=mtistory2&fname=https%3A%2F%2Fblog.kakaocdn.net%2Fdn%2Fby1qnT%2FbtqBE1v1UlX%2FzbnXdYnGAXhMYbcDCca6WK%2Fimg.png)\r\n"
   ],
   "metadata": {}
  },
  {
   "cell_type": "markdown",
   "source": [
    "> Stack 구현 예제\r\n",
    "- 파이썬에서 스택을 이용할 때에는 별도의 라이브러리를 사용할 필요가 없음\r\n",
    "- 기본 리스트에서 append()와 pop() 메서드를 이용하면 스택 자료구조와 동일하게 동작"
   ],
   "metadata": {}
  },
  {
   "cell_type": "code",
   "execution_count": 1,
   "source": [
    "stack = []\r\n",
    "\r\n",
    "# 삽입(5)-삽입(2)-삽입(3)-삽입(7)-삭제()-삽입(1)-삽입(4)-삭제()\r\n",
    "stack.append(5)\r\n",
    "stack.append(2)\r\n",
    "stack.append(3)\r\n",
    "stack.append(7)\r\n",
    "stack.pop()\r\n",
    "stack.append(1)\r\n",
    "stack.append(4)\r\n",
    "stack.pop()\r\n",
    "\r\n",
    "print(stack) # 최하단 원소부터 출력\r\n",
    "print(stack[::-1]) # 최상단 원소부터 출력"
   ],
   "outputs": [
    {
     "output_type": "stream",
     "name": "stdout",
     "text": [
      "[5, 2, 3, 1]\n",
      "[1, 3, 2, 5]\n"
     ]
    }
   ],
   "metadata": {}
  },
  {
   "cell_type": "markdown",
   "source": [
    "### 큐 (Queue)\r\n",
    "- 큐는 놀이공원 또는 맛집의 대기 줄에 비유가능\r\n",
    "- 먼저 온 사람이 먼저 들어가게 됨\r\n",
    "- 선입선출 구조라고 함\r\n",
    "- 입구와 출구가 모두 뚫려 있는 터널과 같은 형태로 시각화 가능\r\n",
    "\r\n",
    "![image](https://img1.daumcdn.net/thumb/R1280x0/?scode=mtistory2&fname=https%3A%2F%2Fblog.kakaocdn.net%2Fdn%2FZce3U%2FbtqBDaOfGU5%2FRc2kR3Puqi3QiQa3o6CPL1%2Fimg.png)"
   ],
   "metadata": {}
  },
  {
   "cell_type": "markdown",
   "source": [
    "### 큐(Queue) 구현 예제\r\n",
    "- 파이썬으로 큐를 구현할 때는 collections 모듈에서 제공하는 deque 자료구조를 활용\r\n",
    "- deque는 스택과 큐의 장점을 모두 채택한 것으로, 데이터를 넣고 빼는 속도가 리스트 자료형에 비해 효율적"
   ],
   "metadata": {}
  },
  {
   "cell_type": "code",
   "execution_count": 6,
   "source": [
    "from collections import deque\r\n",
    "\r\n",
    "queue = deque()\r\n",
    "\r\n",
    "# 삽입(5)-삽입(2)-삽입(3)-삽입(7)-삭제()-삽입(1)-삽입(4)-삭제()\r\n",
    "queue.append(5)\r\n",
    "queue.append(2)\r\n",
    "queue.append(3)\r\n",
    "queue.append(7)\r\n",
    "queue.popleft()\r\n",
    "queue.append(1)\r\n",
    "queue.append(4)\r\n",
    "queue.popleft()\r\n",
    "\r\n",
    "print(queue) # 먼저 들어온 순서대로 출력\r\n",
    "queue.reverse() # 다음 출력을 위해 역순으로 바꾸기\r\n",
    "print(queue) # 나중에 들어온 원소부터 출력"
   ],
   "outputs": [
    {
     "output_type": "stream",
     "name": "stdout",
     "text": [
      "deque([3, 7, 1, 4])\n",
      "deque([4, 1, 7, 3])\n"
     ]
    }
   ],
   "metadata": {}
  },
  {
   "cell_type": "markdown",
   "source": [
    "### 재귀 함수 (Recursive Function) \r\n",
    "- 자기 자신을 다시 호춤하는 함수를 의미 \r\n",
    "- 재귀 함수를 문제 풀이에서 사용할 때는 재귀 함수가 언제 끝날지, 종료 조건을 꼭 명시해야 함.\r\n",
    "- 종료 조건을 명시하지 않으면 함수가 무한 호출될 수 있음\r\n",
    "- 재귀 함수는 내부적으로 스택 자료구조와 동일"
   ],
   "metadata": {}
  },
  {
   "cell_type": "code",
   "execution_count": 8,
   "source": [
    "# 반복적으로 구현한 n! \r\n",
    "def factorial_iterative(n) : \r\n",
    "    result = 1 \r\n",
    "    for i in range(1,n+1) : \r\n",
    "        result *= i\r\n",
    "    return result\r\n",
    "\r\n",
    "# 재귀적으로 구현한 n!\r\n",
    "def factorial_recursive(n) : \r\n",
    "    if n <= 1 : \r\n",
    "        return 1 \r\n",
    "    return n * factorial_recursive(n-1)\r\n",
    "\r\n",
    "print('반복적으로 구현 :', factorial_iterative(5))\r\n",
    "print('재귀적으로 구현 :', factorial_recursive(5))"
   ],
   "outputs": [
    {
     "output_type": "stream",
     "name": "stdout",
     "text": [
      "반복적으로 구현 : 120\n",
      "재귀적으로 구현 : 120\n"
     ]
    }
   ],
   "metadata": {}
  },
  {
   "cell_type": "markdown",
   "source": [
    "- 반복문 대신에 재귀 함수를 사용했을 때 얻을 수 있는 장점\r\n",
    "- 재귀함수가 수학의 점화식(재귀식)을 그대로 소스코드로 옮겼기 때문에 재귀 함수의 코드가 더 간결\r\n",
    "    1. n이0혹은 1일 때 : factorial(n) = 1\r\n",
    "    2. n이 1보다 클 때 : factorial(n) = n * factorial(n-1)"
   ],
   "metadata": {}
  },
  {
   "cell_type": "markdown",
   "source": [
    "## 2. 탐색 알고리즘 DFS / BFS \r\n",
    "### DFS (Depth-First Search) : 깊이 우선 탐색이라고도 부르며, 그래프에서 깊은 부분을 우선적으로 탐색하는 알고리즘\r\n",
    "그래프 : 노드(Node)와 간선(Edge)으로 표현되며 이때 노드를 정점(Vertex)라고도 말한다.\r\n",
    "\r\n",
    "![image](https://media.vlpt.us/images/gimtommang11/post/b632e2fd-4a41-4e96-b7c8-56399615308c/graph.png)\r\n",
    "그래프 탐색이란 하나의 노드를 시작으로 다수의 노드를 방문하는 것\r\n",
    "- 인접 행렬 (Adjacency Matrix) : 2차원 배열로 그래프의 연결 관계를 표현하는 방식\r\n",
    "    ![image](https://img1.daumcdn.net/thumb/R1280x0/?scode=mtistory2&fname=https%3A%2F%2Fblog.kakaocdn.net%2Fdn%2F7RFhy%2FbtqKkOhoYiE%2FSE3IQP2q0g3xd34EQZkjM1%2Fimg.png)\r\n",
    "- 인접 리스트 (Adjacency List) : 리스트로 그래프의 연결 관계를 표현하는 방식\r\n",
    "    - 모든 노드에 연결된 노드에 대한 정보를 차례대로 연결하여 저장\r\n",
    "    ![image](https://img1.daumcdn.net/thumb/R1280x0/?scode=mtistory2&fname=https%3A%2F%2Fblog.kakaocdn.net%2Fdn%2FNlh1G%2FbtqKicb2Wub%2FsHWVSS6bn2FZdijEJVR2r1%2Fimg.png)\r\n"
   ],
   "metadata": {}
  },
  {
   "cell_type": "code",
   "execution_count": 11,
   "source": [
    "# 인접 행렬 방식\r\n",
    "INF = 999999999 # 무한의 비용 선언\r\n",
    "\r\n",
    "# 2차원 리스트를 이용해 인접 행렬 표현\r\n",
    "graph =[\r\n",
    "    [0,7,5],\r\n",
    "    [7,0,INF],\r\n",
    "    [5,INF,0]\r\n",
    "    ]\r\n",
    "print(graph)"
   ],
   "outputs": [
    {
     "output_type": "stream",
     "name": "stdout",
     "text": [
      "[[0, 7, 5], [7, 0, 999999999], [5, 999999999, 0]]\n"
     ]
    }
   ],
   "metadata": {}
  },
  {
   "cell_type": "code",
   "execution_count": 13,
   "source": [
    "# 행이 3개인 2차원 리스트로 인접 리스트 표현\r\n",
    "graph = [[] for _ in range(3)]\r\n",
    "# 노드 0에 연결된 노드 정보 저장 (노드,거리) \r\n",
    "graph[0].append((1,7))\r\n",
    "graph[0].append((2,5))\r\n",
    "\r\n",
    "graph[1].append((0,7))\r\n",
    "graph[2].append((0,5))\r\n",
    "\r\n",
    "print(graph)"
   ],
   "outputs": [
    {
     "output_type": "stream",
     "name": "stdout",
     "text": [
      "[[(1, 7), (2, 5)], [(0, 7)], [(0, 5)]]\n"
     ]
    }
   ],
   "metadata": {}
  },
  {
   "cell_type": "code",
   "execution_count": null,
   "source": [],
   "outputs": [],
   "metadata": {}
  }
 ],
 "metadata": {
  "orig_nbformat": 4,
  "language_info": {
   "name": "python",
   "version": "3.7.10",
   "mimetype": "text/x-python",
   "codemirror_mode": {
    "name": "ipython",
    "version": 3
   },
   "pygments_lexer": "ipython3",
   "nbconvert_exporter": "python",
   "file_extension": ".py"
  },
  "kernelspec": {
   "name": "python3",
   "display_name": "Python 3.7.10 64-bit ('deep-learning-20': conda)"
  },
  "interpreter": {
   "hash": "cdb0e1eaeae7d73f15a51853e3837c6ea3c1d6811a1c33886316680ce2998633"
  }
 },
 "nbformat": 4,
 "nbformat_minor": 2
}