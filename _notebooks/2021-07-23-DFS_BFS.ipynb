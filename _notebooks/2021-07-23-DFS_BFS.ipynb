{
 "cells": [
  {
   "cell_type": "markdown",
   "source": [
    "# \"DFS/BFS\"\r\n",
    "> \"자료구조 기초/ DFS/ BFS\"\r\n",
    "\r\n",
    "- toc: false\r\n",
    "- branch: master\r\n",
    "- badges: true\r\n",
    "- comments: true\r\n",
    "- categories: [coding, jupyter]"
   ],
   "metadata": {}
  },
  {
   "cell_type": "markdown",
   "source": [
    "## 1. 꼭 필요한 자료구조 기초\r\n",
    "### 탐색 : 많은 양의 데이터 중에서 원하는 데이터를 찾는 과정.\r\n",
    "- 프로그래밍에서는 그래프, 트리 등의 자료구조 안에서 탐색을 하는 문제를 자주 다룸\r\n",
    "### 자료구조 : 데이터를 표현하고 관리하고 처리하기 위한 구조\r\n",
    "- 스텍과 큐는 자료구조의 기초 개념으로 삽입, 삭제의 함수로 구성\r\n",
    "    - 삽입(Push) : 데이터를 삽입 \r\n",
    "    - 삭제(Pop) : 데이터를 삭제"
   ],
   "metadata": {}
  },
  {
   "cell_type": "markdown",
   "source": [
    "### 스텍(Stack)\r\n",
    "- 박스 또는 책 쌓기에 비유 가능\r\n",
    "- 선입후출구조 또는 후입선출구조라고 함\r\n",
    "- 입구와 출구가 동일한 형태로 스택을 시각화할 수 있음\r\n",
    "\r\n",
    "![image](https://img1.daumcdn.net/thumb/R1280x0/?scode=mtistory2&fname=https%3A%2F%2Fblog.kakaocdn.net%2Fdn%2Fby1qnT%2FbtqBE1v1UlX%2FzbnXdYnGAXhMYbcDCca6WK%2Fimg.png)\r\n"
   ],
   "metadata": {}
  },
  {
   "cell_type": "markdown",
   "source": [
    "> Stack 구현 예제"
   ],
   "metadata": {}
  },
  {
   "cell_type": "code",
   "execution_count": null,
   "source": [],
   "outputs": [],
   "metadata": {}
  },
  {
   "cell_type": "code",
   "execution_count": null,
   "source": [
    "b"
   ],
   "outputs": [],
   "metadata": {}
  },
  {
   "cell_type": "code",
   "execution_count": null,
   "source": [
    "bbb"
   ],
   "outputs": [],
   "metadata": {}
  }
 ],
 "metadata": {
  "orig_nbformat": 4,
  "language_info": {
   "name": "python"
  }
 },
 "nbformat": 4,
 "nbformat_minor": 2
}