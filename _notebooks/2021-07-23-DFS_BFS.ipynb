{
 "cells": [
  {
   "cell_type": "markdown",
   "metadata": {},
   "source": [
    "# \"DFS/BFS\"\n",
    "> \"자료구조 기초/ DFS/ BFS\"\n",
    "\n",
    "- toc: false\n",
    "- branch: master\n",
    "- badges: true\n",
    "- comments: true\n",
    "- categories: [coding, jupyter]"
   ]
  },
  {
   "cell_type": "markdown",
   "metadata": {},
   "source": [
    "## 1. 꼭 필요한 자료구조 기초\n",
    "\n",
    "### 탐색 : 많은 양의 데이터 중에서 원하는 데이터를 찾는 과정.\n",
    "\n",
    "- 프로그래밍에서는 그래프, 트리 등의 자료구조 안에서 탐색을 하는 문제를 자주 다룸\n",
    "\n",
    "### 자료구조 : 데이터를 표현하고 관리하고 처리하기 위한 구조\n",
    "- 스텍과 큐는 자료구조의 기초 개념으로 삽입, 삭제의 함수로 구성\n",
    "    - 삽입(Push) : 데이터를 삽입 \n",
    "    - 삭제(Pop) : 데이터를 삭제"
   ]
  },
  {
   "cell_type": "markdown",
   "metadata": {},
   "source": [
    "### 스텍(Stack)\n",
    "- 박스 또는 책 쌓기에 비유 가능\n",
    "- 선입후출구조 또는 후입선출구조라고 함\n",
    "- 입구와 출구가 동일한 형태로 스택을 시각화할 수 있음\n",
    "\n",
    "![image](https://img1.daumcdn.net/thumb/R1280x0/?scode=mtistory2&fname=https%3A%2F%2Fblog.kakaocdn.net%2Fdn%2Fby1qnT%2FbtqBE1v1UlX%2FzbnXdYnGAXhMYbcDCca6WK%2Fimg.png)\n"
   ]
  },
  {
   "cell_type": "markdown",
   "metadata": {},
   "source": [
    "> Stack 구현 예제\n",
    "- 파이썬에서 스택을 이용할 때에는 별도의 라이브러리를 사용할 필요가 없음\n",
    "- 기본 리스트에서 append()와 pop() 메서드를 이용하면 스택 자료구조와 동일하게 동작"
   ]
  },
  {
   "cell_type": "code",
   "execution_count": 1,
   "metadata": {},
   "outputs": [
    {
     "name": "stdout",
     "output_type": "stream",
     "text": [
      "[5, 2, 3, 1]\n",
      "[1, 3, 2, 5]\n"
     ]
    }
   ],
   "source": [
    "stack = []\n",
    "\n",
    "# 삽입(5)-삽입(2)-삽입(3)-삽입(7)-삭제()-삽입(1)-삽입(4)-삭제()\n",
    "stack.append(5)\n",
    "stack.append(2)\n",
    "stack.append(3)\n",
    "stack.append(7)\n",
    "stack.pop()\n",
    "stack.append(1)\n",
    "stack.append(4)\n",
    "stack.pop()\n",
    "\n",
    "print(stack) # 최하단 원소부터 출력\n",
    "print(stack[::-1]) # 최상단 원소부터 출력"
   ]
  },
  {
   "cell_type": "markdown",
   "metadata": {},
   "source": [
    "### 큐 (Queue)\n",
    "- 큐는 놀이공원 또는 맛집의 대기 줄에 비유가능\n",
    "- 먼저 온 사람이 먼저 들어가게 됨\n",
    "- 선입선출 구조라고 함\n",
    "- 입구와 출구가 모두 뚫려 있는 터널과 같은 형태로 시각화 가능\n",
    "\n",
    "![image](https://img1.daumcdn.net/thumb/R1280x0/?scode=mtistory2&fname=https%3A%2F%2Fblog.kakaocdn.net%2Fdn%2FZce3U%2FbtqBDaOfGU5%2FRc2kR3Puqi3QiQa3o6CPL1%2Fimg.png)"
   ]
  },
  {
   "cell_type": "markdown",
   "metadata": {},
   "source": [
    "### 큐(Queue) 구현 예제\n",
    "- 파이썬으로 큐를 구현할 때는 collections 모듈에서 제공하는 deque 자료구조를 활용\n",
    "- deque는 스택과 큐의 장점을 모두 채택한 것으로, 데이터를 넣고 빼는 속도가 리스트 자료형에 비해 효율적"
   ]
  },
  {
   "cell_type": "code",
   "execution_count": 6,
   "metadata": {},
   "outputs": [
    {
     "name": "stdout",
     "output_type": "stream",
     "text": [
      "deque([3, 7, 1, 4])\n",
      "deque([4, 1, 7, 3])\n"
     ]
    }
   ],
   "source": [
    "from collections import deque\n",
    "\n",
    "queue = deque()\n",
    "\n",
    "# 삽입(5)-삽입(2)-삽입(3)-삽입(7)-삭제()-삽입(1)-삽입(4)-삭제()\n",
    "queue.append(5)\n",
    "queue.append(2)\n",
    "queue.append(3)\n",
    "queue.append(7)\n",
    "queue.popleft()\n",
    "queue.append(1)\n",
    "queue.append(4)\n",
    "queue.popleft()\n",
    "\n",
    "print(queue) # 먼저 들어온 순서대로 출력\n",
    "queue.reverse() # 다음 출력을 위해 역순으로 바꾸기\n",
    "print(queue) # 나중에 들어온 원소부터 출력"
   ]
  },
  {
   "cell_type": "markdown",
   "metadata": {},
   "source": [
    "### 재귀 함수 (Recursive Function) \n",
    "- **자기 자신을 다시 호출하는 함수를 의미**\n",
    "- 재귀 함수를 문제 풀이에서 사용할 때는 재귀 함수가 언제 끝날지, 종료 조건을 꼭 명시해야 함.\n",
    "- 종료 조건을 명시하지 않으면 함수가 무한 호출될 수 있음\n",
    "- 재귀 함수는 내부적으로 스택 자료구조와 동일"
   ]
  },
  {
   "cell_type": "code",
   "execution_count": 8,
   "metadata": {},
   "outputs": [
    {
     "name": "stdout",
     "output_type": "stream",
     "text": [
      "반복적으로 구현 : 120\n",
      "재귀적으로 구현 : 120\n"
     ]
    }
   ],
   "source": [
    "# 반복적으로 구현한 n! \n",
    "def factorial_iterative(n) : \n",
    "    result = 1 \n",
    "    for i in range(1,n+1) : \n",
    "        result *= i\n",
    "    return result\n",
    "\n",
    "# 재귀적으로 구현한 n!\n",
    "def factorial_recursive(n) : \n",
    "    if n <= 1 : \n",
    "        return 1 \n",
    "    return n * factorial_recursive(n-1)\n",
    "\n",
    "print('반복적으로 구현 :', factorial_iterative(5))\n",
    "print('재귀적으로 구현 :', factorial_recursive(5))"
   ]
  },
  {
   "cell_type": "markdown",
   "metadata": {},
   "source": [
    "- 반복문 대신에 재귀 함수를 사용했을 때 얻을 수 있는 장점\n",
    "- 재귀함수가 수학의 점화식(재귀식)을 그대로 소스코드로 옮겼기 때문에 재귀 함수의 코드가 더 간결\n",
    "    1. n이0혹은 1일 때 : factorial(n) = 1\n",
    "    2. n이 1보다 클 때 : factorial(n) = n * factorial(n-1)"
   ]
  },
  {
   "cell_type": "markdown",
   "metadata": {},
   "source": [
    "## 2. 탐색 알고리즘 DFS / BFS \n",
    "### DFS (Depth-First Search) : 깊이 우선 탐색이라고도 부르며, 그래프에서 깊은 부분을 우선적으로 탐색하는 알고리즘\n",
    "그래프 : 노드(Node)와 간선(Edge)으로 표현되며 이때 노드를 정점(Vertex)라고도 말한다.\n",
    "\n",
    "![image](https://media.vlpt.us/images/gimtommang11/post/b632e2fd-4a41-4e96-b7c8-56399615308c/graph.png)\n",
    "그래프 탐색이란 하나의 노드를 시작으로 다수의 노드를 방문하는 것\n",
    "- 인접 행렬 (Adjacency Matrix) : 2차원 배열로 그래프의 연결 관계를 표현하는 방식\n",
    "\n",
    "![image](https://img1.daumcdn.net/thumb/R1280x0/?scode=mtistory2&fname=https%3A%2F%2Fblog.kakaocdn.net%2Fdn%2F7RFhy%2FbtqKkOhoYiE%2FSE3IQP2q0g3xd34EQZkjM1%2Fimg.png)\n",
    "\n",
    "- 인접 리스트 (Adjacency List) : 리스트로 그래프의 연결 관계를 표현하는 방식\n",
    "    - 모든 노드에 연결된 노드에 대한 정보를 차례대로 연결하여 저장\n",
    "    - 한 노드에 연결된 모든 노드를 숫자가 작은 순서로 저장?\n",
    "    \n",
    "    ![image](https://img1.daumcdn.net/thumb/R1280x0/?scode=mtistory2&fname=https%3A%2F%2Fblog.kakaocdn.net%2Fdn%2FNlh1G%2FbtqKicb2Wub%2FsHWVSS6bn2FZdijEJVR2r1%2Fimg.png)\n"
   ]
  },
  {
   "cell_type": "markdown",
   "metadata": {},
   "source": [
    "- 메모리와 속도 측면에서 살펴본 인접 행렬 방식과 인접 리스트 방식\n",
    "    - 메모리 측면에서 인접 행렬 방식은 모든 관계를 저장하므로 노드 개수가 많을수록 메모리가 불필요하게 낭비\n",
    "    - 반면 인접 리스트 방식은 연결된 정보만을 저장하기 때문에 메모리를 효율적으로 사용\n",
    "    - But, 위같은 속성 때문에 인접 리스트 방식은 인접 행렬 방식에 비해 특정한 두 노드가 연결되어 있는지에 대한 정보를 얻는 속도가 느림.\n",
    "    - 특정 노드와 연결된 모든 이넙 노드를 순회해야 하는 경우, 인접 리스트 방식이 인접 행렬 방식에 비해 메모리 공간의 낭비가 적음"
   ]
  },
  {
   "cell_type": "code",
   "execution_count": 1,
   "metadata": {},
   "outputs": [
    {
     "name": "stdout",
     "output_type": "stream",
     "text": [
      "[[0, 7, 5], [7, 0, 999999999], [5, 999999999, 0]]\n"
     ]
    }
   ],
   "source": [
    "# 인접 행렬 방식\n",
    "INF = 999999999 # 무한의 비용 선언\n",
    "\n",
    "# 2차원 리스트를 이용해 인접 행렬 표현\n",
    "# 자기 자신은 0, 연결이 되면 연결된 노드의 숫자를 기재, 연결이 안되어 있으면 INF\n",
    "\n",
    "graph =[\n",
    "    [0,7,5],\n",
    "    [7,0,INF],\n",
    "    [5,INF,0]\n",
    "    ]\n",
    "print(graph)"
   ]
  },
  {
   "cell_type": "code",
   "execution_count": 13,
   "metadata": {},
   "outputs": [
    {
     "name": "stdout",
     "output_type": "stream",
     "text": [
      "[[(1, 7), (2, 5)], [(0, 7)], [(0, 5)]]\n"
     ]
    }
   ],
   "source": [
    "# 행이 3개인 2차원 리스트로 인접 리스트 표현\n",
    "graph = [[] for _ in range(3)]\n",
    "\n",
    "# 노드 0에 연결된 노드 정보 저장 (노드,거리) \n",
    "graph[0].append((1,7))\n",
    "graph[0].append((2,5))\n",
    "\n",
    "graph[1].append((0,7))\n",
    "graph[2].append((0,5))\n",
    "\n",
    "print(graph)"
   ]
  },
  {
   "cell_type": "markdown",
   "metadata": {},
   "source": [
    "DFS  깊이우선 탐색\n",
    "- DFS : 특정한 경로로 탐색하다가 특정한 상황에서 최대한 싶숙이 들어가서 노드를 방문한 후, 다시 돌아가 다른 경로로 탐색하는 알고리즘  \n",
    "\n",
    "- DFS는 **스택 자료구조**를 이용하며, 구체적인 동작 과정은 다음과 같음\n",
    "    1. 탐색 시작 노드를 스택에 삽입하고 방문 처리\n",
    "    2. 스택의 최상단 노드에 방문하지 않은 인접 노드가 있으면 그 인접 노드를 스택에 넣고 방문 처리를 한다. 방문하지 않은 인접 노드가 없으면 스택에서 최상단 노드를 꺼낸다.\n",
    "    3. 2번의 과정을 더 이상 수행할 수 없을 때까지 반복\n",
    "   \n",
    "TIP\n",
    " - 위에서 방문처리는 스택에 한 번 삽입되어 처리된 노드가 다시 삽입되지 않게 체크하는 것을 의미. 방문 처리를 함으로써 각 노드를 한 번씩만 처리할 수 있음.\n",
    " - 일반적으로 인접한 노드 중에서 방문하지 않은 노드가 여러 개 있으면 번호가 낮은 순서부터 처리\n",
    " - 실제로는 스택을 쓰지 않아도 구현가능하며, 탐색을 수행함에 있어서 데이터의 개수가 N개인 경우 O(N)의 시간이 소요된다는 특징 있음\n",
    " - DFS는 스택을 이용하는 알고리즘이기 때문에 실제 구현은 **재귀 함수**를 이용했을 때 매우 간결하게 구현가능"
   ]
  },
  {
   "cell_type": "code",
   "execution_count": 6,
   "metadata": {},
   "outputs": [
    {
     "name": "stdout",
     "output_type": "stream",
     "text": [
      "1 2 7 6 8 3 4 5 "
     ]
    }
   ],
   "source": [
    "# DFS 매서드 정의\n",
    "def DFS(graph, v, visited) :\n",
    "    #현재 노드를 방문 처리\n",
    "    visited[v] = True\n",
    "    print(v,end=' ') # 방문 순서를 출력. 한 줄로 이어지게 --> end=' '\n",
    "    \n",
    "    # 현재 노드와 연결된 다른 노드를 재귀적으로 방문\n",
    "    for i in graph[v] : \n",
    "        if not visited[i] : \n",
    "            DFS(graph,i,visited)\n",
    "# 각 노드가 연결된 정보를 리스트 자료형으로 표현 (2차원 리스트)\n",
    "\n",
    "graph = [\n",
    "    [],\n",
    "    [2,3,8],\n",
    "    [1,7],\n",
    "    [1,4,5],\n",
    "    [3,5],\n",
    "    [3,4],\n",
    "    [7],\n",
    "    [2,6,8],\n",
    "    [1,7]\n",
    "]\n",
    "\n",
    "#각 노드가 방문된 정보를 리스트 자료형으로 표현(1차원 리스트)\n",
    "visited = [False]*9\n",
    "\n",
    "#정의된 DFS 함T수 호출\n",
    "DFS(graph,1,visited)"
   ]
  },
  {
   "cell_type": "markdown",
   "metadata": {},
   "source": [
    "### BFS 너비 우선 탐색\n",
    "\n",
    "BFS 알고리즘은 너비우선 탐색이라는 의미를 가진다. 쉽게 말해 가까운 노드부터 탐색하는 알고리즘이다.\n",
    "DFS는 최대한 멀리 있는 노드를 우선으로 탐색하는 방식으로 동작한다고 했는데, BFS는 그 반대\n",
    "BFS 구현\n",
    "- BFS 구현에서는 선입선출 방식인 큐 자료구조를 이용하는 것이 정석\n",
    "- 인접한 노드를 반복적으로 큐에 넣도록 알고리즘을 작성하면 자연스럽게 먼저 들어온 것이 먼저 나가게 되어, 가까운 노드부터 탐색을 진행하게 됨.\n",
    "- 알고리즘의 정확한 동작 방식\n",
    "    1. 탐색 시작 노드를 큐에 삽입하고 방문 처리\n",
    "    2. 큐에서 노드를 꺼내 해당 노드의 인접 노드 중에서 방문하지 않은 노드를 모두 큐에 삽입하고 방문 처리 \n",
    "    3. 2번의 과정을 더 이상 수행할 수 없을 때까지 반복\n",
    "\n",
    "TIP\n",
    "- 너비 우선 탐색 알고리즘인 BFS는 큐 자료구조에 기초한다는 점에서 구현이 간단. \n",
    "- 실제로 구현함에 있어 앞서 언급한 대로 deque 라이브러리를 사용하는 것이 좋음\n",
    "- 탐색을 수행함에 있어 O(N)의 시간이 소요\n",
    "- 일반적인 경우 실제 수행 시간은 DFS보다 좋은 편이라는 점까지만 추가로 기억"
   ]
  },
  {
   "cell_type": "code",
   "execution_count": 9,
   "metadata": {},
   "outputs": [
    {
     "name": "stdout",
     "output_type": "stream",
     "text": [
      "1 2 3 8 7 4 5 6 "
     ]
    }
   ],
   "source": [
    "from collections import deque\n",
    "\n",
    "#BFS 매서드 정의\n",
    "def BFS(graph,start,visited) : \n",
    "    # 큐(Queue) 구현을 위해 deque 라이브러리 사용\n",
    "    queue = deque([start])\n",
    "    \n",
    "    #현재 노드를 방문 처리\n",
    "    visited[start] = True\n",
    "    \n",
    "    #큐가 빌 때 까지 반복\n",
    "    while queue :\n",
    "        #큐에서 하나의 원소를 뽑아 출력\n",
    "        v = queue.popleft()\n",
    "        print(v,end=' ')\n",
    "        \n",
    "        #해당 원소와 연결된, 아직 방문하지 않은 원소들을 큐에 삽입\n",
    "        for i in graph[v] : \n",
    "            if not visited[i]:\n",
    "                queue.append(i)\n",
    "                visited[i] = True\n",
    "\n",
    "graph = [\n",
    "    [],\n",
    "    [2,3,8],\n",
    "    [1,7],\n",
    "    [1,4,5],\n",
    "    [3,5],\n",
    "    [3,4],\n",
    "    [7],\n",
    "    [2,6,8],\n",
    "    [1,7]\n",
    "]\n",
    "\n",
    "#각 노드가 방문된 정보를 리스트 자료형으로 표현(1차원 표현)\n",
    "visited = [False]*9\n",
    "\n",
    "#정의된 BFS 함수 호출\n",
    "BFS(graph,1,visited)"
   ]
  },
  {
   "cell_type": "markdown",
   "metadata": {},
   "source": [
    "### *2차원 배열에서의 탐색 문제를 만나면 그래프 형태로 바꿔서 생각하면 풀이 방법을 조금 더 쉽게 떠올릴 수 있음!!*"
   ]
  }
 ],
 "metadata": {
  "interpreter": {
   "hash": "cdb0e1eaeae7d73f15a51853e3837c6ea3c1d6811a1c33886316680ce2998633"
  },
  "kernelspec": {
   "display_name": "Python 3",
   "language": "python",
   "name": "python3"
  },
  "language_info": {
   "codemirror_mode": {
    "name": "ipython",
    "version": 3
   },
   "file_extension": ".py",
   "mimetype": "text/x-python",
   "name": "python",
   "nbconvert_exporter": "python",
   "pygments_lexer": "ipython3",
   "version": "3.8.5"
  }
 },
 "nbformat": 4,
 "nbformat_minor": 2
}
