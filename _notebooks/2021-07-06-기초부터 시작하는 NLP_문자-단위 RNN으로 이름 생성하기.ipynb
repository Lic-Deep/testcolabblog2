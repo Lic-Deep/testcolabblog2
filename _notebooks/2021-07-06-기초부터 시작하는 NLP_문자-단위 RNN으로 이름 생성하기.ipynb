{
 "cells": [
  {
   "cell_type": "markdown",
   "metadata": {},
   "source": [
    "# \"기초부터 시작하는 NLP: 문자-단위 RNN으로 이름 생성하기\"\r\n",
    "> \"Pytorch Tutorial 따라서 코드 돌려보며, 내용 확인\"\r\n",
    "\r\n",
    "- toc:true\r\n",
    "- branch: master\r\n",
    "- badges: true\r\n",
    "- comments: true\r\n",
    "- author: In Chan\r\n",
    "- categories: [jupyter, deep learning]"
   ]
  },
  {
   "cell_type": "markdown",
   "metadata": {},
   "source": [
    "# 기초부터 시작하는 NLP: 문자-단위 RNN으로 이름 생성하기\r\n",
    "___"
   ]
  },
  {
   "cell_type": "markdown",
   "metadata": {},
   "source": [
    "## 1. 데이터준비\r\n",
    "- txt 파일을 찾아서, 어레이로 분리하고, ASCII로 변환하고, 딕셔너리 자료형 생성"
   ]
  },
  {
   "cell_type": "code",
   "execution_count": 2,
   "metadata": {},
   "outputs": [
    {
     "name": "stdout",
     "output_type": "stream",
     "text": [
      "# categories: 18 ['Arabic', 'Chinese', 'Czech', 'Dutch', 'English', 'French', 'German', 'Greek', 'Irish', 'Italian', 'Japanese', 'Korean', 'Polish', 'Portuguese', 'Russian', 'Scottish', 'Spanish', 'Vietnamese']\n",
      "O'Neal\n"
     ]
    }
   ],
   "source": [
    "from __future__ import unicode_literals, print_function, division\r\n",
    "from io import open\r\n",
    "import glob\r\n",
    "import os\r\n",
    "import unicodedata\r\n",
    "import string\r\n",
    "\r\n",
    "all_letters = string.ascii_letters + \" .,;'-\"\r\n",
    "n_letters = len(all_letters) + 1 # EOS(end of sentence) 기호 추가\r\n",
    "\r\n",
    "def findFiles(path): return glob.glob(path)\r\n",
    "\r\n",
    "# 유니코드 문자열을 ASCII로 변환, https://stackoverflow.com/a/518232/2809427\r\n",
    "def unicodeToAscii(s):\r\n",
    "    return ''.join(\r\n",
    "        c for c in unicodedata.normalize('NFD', s)\r\n",
    "        if unicodedata.category(c) != 'Mn'\r\n",
    "        and c in all_letters\r\n",
    "    )\r\n",
    "\r\n",
    "# 파일을 읽고 줄 단위로 분리\r\n",
    "def readLines(filename):\r\n",
    "    with open(filename, encoding='utf-8') as some_file:\r\n",
    "        return [unicodeToAscii(line.strip()) for line in some_file]\r\n",
    "\r\n",
    "# 각 언어의 이름 목록인 category_lines 사전 생성\r\n",
    "category_lines = {}\r\n",
    "all_categories = []\r\n",
    "for filename in findFiles('data/names/*.txt'):\r\n",
    "    category = os.path.splitext(os.path.basename(filename))[0]\r\n",
    "    all_categories.append(category)\r\n",
    "    lines = readLines(filename)\r\n",
    "    category_lines[category] = lines\r\n",
    "\r\n",
    "n_categories = len(all_categories)\r\n",
    "\r\n",
    "if n_categories == 0:\r\n",
    "    raise RuntimeError('Data not found. Make sure that you downloaded data '\r\n",
    "        'from https://download.pytorch.org/tutorial/data.zip and extract it to '\r\n",
    "        'the current directory.')\r\n",
    "\r\n",
    "print('# categories:', n_categories, all_categories)\r\n",
    "print(unicodeToAscii(\"O'Néàl\"))"
   ]
  },
  {
   "cell_type": "markdown",
   "metadata": {},
   "source": [
    "## 2. 네트워크 생성\r\n",
    "\r\n",
    "- 더 나은 성능을 위해 선형 레이어(o2o layer) 추가, Drop out 추가\r\n",
    "\r\n",
    "\r\n",
    "![image](https://i.imgur.com/jzVrf7f.png)"
   ]
  },
  {
   "cell_type": "code",
   "execution_count": 3,
   "metadata": {},
   "outputs": [],
   "source": [
    "import torch\r\n",
    "import torch.nn as nn\r\n",
    "\r\n",
    "class RNN(nn.Module):\r\n",
    "    def __init__(self, input_size, hidden_size, output_size):\r\n",
    "        super(RNN, self).__init__()\r\n",
    "        self.hidden_size = hidden_size\r\n",
    "\r\n",
    "        self.i2h = nn.Linear(n_categories + input_size + hidden_size, hidden_size)\r\n",
    "        self.i2o = nn.Linear(n_categories + input_size + hidden_size, output_size)\r\n",
    "        self.o2o = nn.Linear(hidden_size + output_size, output_size)\r\n",
    "        self.dropout = nn.Dropout(0.1)\r\n",
    "        self.softmax = nn.LogSoftmax(dim=1)\r\n",
    "\r\n",
    "    def forward(self, category, input, hidden):\r\n",
    "        input_combined = torch.cat((category, input, hidden), 1)\r\n",
    "        hidden = self.i2h(input_combined)\r\n",
    "        output = self.i2o(input_combined)\r\n",
    "        output_combined = torch.cat((hidden, output), 1)\r\n",
    "        output = self.o2o(output_combined)\r\n",
    "        output = self.dropout(output)\r\n",
    "        output = self.softmax(output)\r\n",
    "        return output, hidden\r\n",
    "\r\n",
    "    def initHidden(self):\r\n",
    "        return torch.zeros(1, self.hidden_size)"
   ]
  },
  {
   "cell_type": "markdown",
   "metadata": {},
   "source": [
    "## 3. 학습"
   ]
  },
  {
   "cell_type": "code",
   "execution_count": 4,
   "metadata": {},
   "outputs": [],
   "source": [
    "import random\r\n",
    "\r\n",
    "# 목록에서 무작위 아이템 반환\r\n",
    "def randomChoice(l):\r\n",
    "    return l[random.randint(0, len(l) - 1)]\r\n",
    "\r\n",
    "# 임의의 category 및 그 category에서 무작위 줄(이름) 얻기\r\n",
    "# 실행 예시  = ('German', 'Brauer')\r\n",
    "def randomTrainingPair():\r\n",
    "    category = randomChoice(all_categories)\r\n",
    "    line = randomChoice(category_lines[category])\r\n",
    "    return category, line"
   ]
  },
  {
   "cell_type": "markdown",
   "metadata": {},
   "source": [
    "- 각 스텝마다(즉, 학습 단어의 각 문자 마다) 네트워크의 입력 = (언어, 현재 문자, 히든스테이트) , 출력 = (다음 문자, 다음 히든스테이트)\r\n",
    "- 따라서, 각 학습 세트마다 언어, 입력 문자의 세트, 출력/목표 문자의 세트가 필요"
   ]
  },
  {
   "cell_type": "markdown",
   "metadata": {},
   "source": [
    "- 각 시간 단계마다 현재 문자에서 다음 문자를 예측하기 때문에, 문자 쌍은 한 줄(하나의 이름)에서 연속된 문자 그룹\r\n",
    "\r\n",
    "\r\n",
    "- 예를 들어 \"ABCD<EOS>\" 는 (“A”, “B”), (“B”, “C”), (“C”, “D”), (“D”, “EOS”) 로 생성\r\n",
    "\r\n",
    "\r\n",
    "![image](https://i.imgur.com/JH58tXY.png)"
   ]
  },
  {
   "cell_type": "code",
   "execution_count": 5,
   "metadata": {},
   "outputs": [],
   "source": [
    "# Category를 위한 One-hot 벡터\r\n",
    "def categoryTensor(category):\r\n",
    "    li = all_categories.index(category)\r\n",
    "    tensor = torch.zeros(1, n_categories)\r\n",
    "    tensor[0][li] = 1\r\n",
    "    return tensor\r\n",
    "\r\n",
    "# 입력을 위한 처음부터 마지막 문자(EOS 제외)까지의  One-hot 행렬\r\n",
    "# Data\r\n",
    "def inputTensor(line):\r\n",
    "    tensor = torch.zeros(len(line), 1, n_letters)\r\n",
    "    for li in range(len(line)):\r\n",
    "        letter = line[li]\r\n",
    "        tensor[li][0][all_letters.find(letter)] = 1\r\n",
    "    return tensor\r\n",
    "\r\n",
    "# 목표를 위한 두번째 문자 부터 마지막(EOS) 까지의 LongTensor\r\n",
    "# Label\r\n",
    "def targetTensor(line):\r\n",
    "    letter_indexes = [all_letters.find(line[li]) for li in range(1, len(line))]\r\n",
    "    letter_indexes.append(n_letters - 1) # EOS\r\n",
    "    return torch.LongTensor(letter_indexes)"
   ]
  },
  {
   "cell_type": "markdown",
   "metadata": {},
   "source": [
    "- 학습에서 편의를 위해 무작위로 데이터를 가져오고, input과 output의 형태로 바꾸어주는 함수"
   ]
  },
  {
   "cell_type": "code",
   "execution_count": 6,
   "metadata": {},
   "outputs": [],
   "source": [
    "# 임의의 Category에서 Category, Input, Target Tensor를 만듭니다.\r\n",
    "def randomTrainingExample():\r\n",
    "    category, line = randomTrainingPair()\r\n",
    "    category_tensor = categoryTensor(category)\r\n",
    "    input_line_tensor = inputTensor(line)\r\n",
    "    target_line_tensor = targetTensor(line)\r\n",
    "    return category_tensor, input_line_tensor, target_line_tensor"
   ]
  },
  {
   "cell_type": "markdown",
   "metadata": {},
   "source": [
    "## 4. 네트워크 학습"
   ]
  },
  {
   "cell_type": "markdown",
   "metadata": {},
   "source": [
    "- 마지막 출력만 사용하는 분류와는 달리, 모든 타임 스텝에서 예측을 진행하므로, 각 단계에서의 손실을 계산해줘야함"
   ]
  },
  {
   "cell_type": "code",
   "execution_count": 7,
   "metadata": {},
   "outputs": [],
   "source": [
    "criterion = nn.NLLLoss()\r\n",
    "\r\n",
    "learning_rate = 0.0005\r\n",
    "\r\n",
    "def train(category_tensor, input_line_tensor, target_line_tensor):\r\n",
    "    target_line_tensor.unsqueeze_(-1)\r\n",
    "    hidden = rnn.initHidden() # initialization\r\n",
    "\r\n",
    "    rnn.zero_grad() \r\n",
    "\r\n",
    "    loss = 0\r\n",
    "\r\n",
    "    for i in range(input_line_tensor.size(0)):\r\n",
    "        # 하나의 문자씩 들어감\r\n",
    "        output, hidden = rnn(category_tensor, input_line_tensor[i], hidden) \r\n",
    "        # 각 타임 스텝에 대한 Loss 계산\r\n",
    "        l = criterion(output, target_line_tensor[i]) \r\n",
    "        loss += l\r\n",
    "\r\n",
    "    loss.backward() # Loss 역전파\r\n",
    "\r\n",
    "    for p in rnn.parameters():\r\n",
    "        p.data.add_(p.grad.data, alpha=-learning_rate)\r\n",
    "\r\n",
    "    return output, loss.item() / input_line_tensor.size(0)"
   ]
  },
  {
   "cell_type": "code",
   "execution_count": 8,
   "metadata": {},
   "outputs": [],
   "source": [
    "import time\r\n",
    "import math\r\n",
    "\r\n",
    "# 학습에 걸리는 시간을 추적하기 위한 것\r\n",
    "def timeSince(since):\r\n",
    "    now = time.time()\r\n",
    "    s = now - since\r\n",
    "    m = math.floor(s / 60)\r\n",
    "    s -= m * 60\r\n",
    "    return '%dm %ds' % (m, s)"
   ]
  },
  {
   "cell_type": "code",
   "execution_count": 9,
   "metadata": {},
   "outputs": [
    {
     "name": "stdout",
     "output_type": "stream",
     "text": [
      "0m 22s (5000 5%) 2.3946\n",
      "0m 44s (10000 10%) 3.4316\n",
      "1m 7s (15000 15%) 2.4484\n",
      "1m 29s (20000 20%) 3.3045\n",
      "1m 51s (25000 25%) 2.7333\n",
      "2m 13s (30000 30%) 2.7747\n",
      "2m 35s (35000 35%) 2.9738\n",
      "2m 57s (40000 40%) 2.6746\n",
      "3m 19s (45000 45%) 2.2482\n",
      "3m 40s (50000 50%) 2.3516\n",
      "4m 1s (55000 55%) 2.0257\n",
      "4m 22s (60000 60%) 2.5526\n",
      "4m 43s (65000 65%) 2.1610\n",
      "5m 4s (70000 70%) 2.7014\n",
      "5m 25s (75000 75%) 1.2569\n",
      "5m 46s (80000 80%) 2.7089\n",
      "6m 7s (85000 85%) 4.1362\n",
      "6m 28s (90000 90%) 2.6643\n",
      "6m 49s (95000 95%) 3.3536\n",
      "7m 10s (100000 100%) 2.3982\n"
     ]
    }
   ],
   "source": [
    "# RNN(글자 Class , Hidden Size, output_size)\r\n",
    "rnn = RNN(n_letters, 128, n_letters) \r\n",
    "\r\n",
    "n_iters = 100000\r\n",
    "print_every = 5000\r\n",
    "plot_every = 500\r\n",
    "all_losses = []\r\n",
    "total_loss = 0 # plot_every 마다 초기화\r\n",
    "\r\n",
    "start = time.time()\r\n",
    "\r\n",
    "for iter in range(1, n_iters + 1):\r\n",
    "    output, loss = train(*randomTrainingExample())\r\n",
    "    total_loss += loss\r\n",
    "\r\n",
    "    if iter % print_every == 0:\r\n",
    "        print('%s (%d %d%%) %.4f' % (timeSince(start), iter, iter / n_iters * 100, loss))\r\n",
    "\r\n",
    "    if iter % plot_every == 0:\r\n",
    "        all_losses.append(total_loss / plot_every)\r\n",
    "        total_loss = 0"
   ]
  },
  {
   "cell_type": "markdown",
   "metadata": {},
   "source": [
    "## 4. 결과 도식화"
   ]
  },
  {
   "cell_type": "code",
   "execution_count": 10,
   "metadata": {},
   "outputs": [
    {
     "data": {
      "text/plain": [
       "[<matplotlib.lines.Line2D at 0x1fdaf8cf6c8>]"
      ]
     },
     "execution_count": 10,
     "metadata": {},
     "output_type": "execute_result"
    },
    {
     "data": {
      "image/png": "[encoded data removed]",
      "text/plain": [
       "<Figure size 432x288 with 1 Axes>"
      ]
     },
     "metadata": {
      "needs_background": "light"
     },
     "output_type": "display_data"
    }
   ],
   "source": [
    "import matplotlib.pyplot as plt\r\n",
    "\r\n",
    "plt.figure()\r\n",
    "plt.plot(all_losses)"
   ]
  },
  {
   "cell_type": "markdown",
   "metadata": {},
   "source": [
    "## 5. 네트워크 샘플링\r\n",
    "- 입력 : (카테고리, 시작문자, 히든 스테이트)\r\n",
    "- 시작 문자로 output_name 문자열 생성\r\n",
    "- 최대 출력 길이까지\r\n",
    "    - 시작 문자를 네트워크에 전달\r\n",
    "    - 다음 문자와 다음 히든 스테이트를 얻음\r\n",
    "    - EOS면 Stop, 그 외의 문자라면 output_name에 추가하고 계속"
   ]
  },
  {
   "cell_type": "code",
   "execution_count": 14,
   "metadata": {},
   "outputs": [
    {
     "name": "stdout",
     "output_type": "stream",
     "text": [
      "Rover\n",
      "Uantovak\n",
      "Shantov\n",
      "Gerren\n",
      "Eren\n",
      "Romer\n",
      "Santaraz\n",
      "Pore\n",
      "Allan\n",
      "Chan\n",
      "Han\n",
      "Iha\n"
     ]
    }
   ],
   "source": [
    "max_length = 20\r\n",
    "\r\n",
    "# 카테고리와 시작 문자로 부터 샘플링 하기\r\n",
    "def sample(category, start_letter='A'):\r\n",
    "    with torch.no_grad():  # 샘플링에서 히스토리를 추적할 필요 없음\r\n",
    "        category_tensor = categoryTensor(category)\r\n",
    "        # inputTensor : 입력을 위해 문자를 One-Hot 백터로 인코딩하는 함수\r\n",
    "        input = inputTensor(start_letter) \r\n",
    "        # 맨 처음 Time Step에 들어가기 전에만 parameter 초기화를 해줌\r\n",
    "        hidden = rnn.initHidden() \r\n",
    "\r\n",
    "        output_name = start_letter\r\n",
    "\r\n",
    "        for i in range(max_length):\r\n",
    "            output, hidden = rnn(category_tensor, input[0], hidden)\r\n",
    "            # 텐서의 가장 큰 값 및 주소 , 즉 topv은 max값, topi는 argmax 값\r\n",
    "            topv, topi = output.topk(1) \r\n",
    "            # 모델에서 예측한 문자의 index\r\n",
    "            topi = topi[0][0] \r\n",
    "            if topi == n_letters - 1: ## EOS면 종료\r\n",
    "                break\r\n",
    "            else:\r\n",
    "                letter = all_letters[topi] # output name에 문자 추가\r\n",
    "                output_name += letter\r\n",
    "            input = inputTensor(letter) # 다음 time step의 인풋으로 넣어줌 \r\n",
    "\r\n",
    "        return output_name\r\n",
    "\r\n",
    "# 하나의 카테고리와 여러 시작 문자들로 여러 개의 샘플 얻기\r\n",
    "def samples(category, start_letters='ABC'):\r\n",
    "    for start_letter in start_letters:\r\n",
    "        print(sample(category, start_letter))\r\n",
    "\r\n",
    "samples('Russian', 'RUS')\r\n",
    "\r\n",
    "samples('German', 'GER')\r\n",
    "\r\n",
    "samples('Spanish', 'SPA')\r\n",
    "\r\n",
    "samples('Chinese', 'CHI')"
   ]
  },
  {
   "cell_type": "code",
   "execution_count": 20,
   "metadata": {},
   "outputs": [
    {
     "name": "stdout",
     "output_type": "stream",
     "text": [
      "Ohon\n",
      "Eon\n",
      "Non\n"
     ]
    }
   ],
   "source": [
    "samples('Korean', 'OEN')"
   ]
  }
 ],
 "metadata": {
  "interpreter": {
   "hash": "cdb0e1eaeae7d73f15a51853e3837c6ea3c1d6811a1c33886316680ce2998633"
  },
  "kernelspec": {
   "display_name": "Python 3.7.10 64-bit ('deep-learning-20': conda)",
   "name": "python3"
  },
  "language_info": {
   "codemirror_mode": {
    "name": "ipython",
    "version": 3
   },
   "file_extension": ".py",
   "mimetype": "text/x-python",
   "name": "python",
   "nbconvert_exporter": "python",
   "pygments_lexer": "ipython3",
   "version": "3.7.10"
  },
  "orig_nbformat": 4
 },
 "nbformat": 4,
 "nbformat_minor": 2
}