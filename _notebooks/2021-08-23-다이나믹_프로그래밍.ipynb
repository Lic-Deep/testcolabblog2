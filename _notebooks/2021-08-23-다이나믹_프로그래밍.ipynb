{
 "cells": [
  {
   "cell_type": "markdown",
   "source": [
    "# \"다이나믹 프로그래밍\"\r\n",
    "> \"다이나믹 프로그래밍 갠며\"\r\n",
    "\r\n",
    "- toc: false\r\n",
    "- branch: master\r\n",
    "- badges: true\r\n",
    "- comments: true\r\n",
    "- categories: [coding, jupyter]"
   ],
   "metadata": {}
  },
  {
   "cell_type": "markdown",
   "source": [
    "## 1. 다이나믹 프로그래밍 \r\n",
    "\r\n",
    "### 중복되는 연산을 줄이자\r\n",
    "\r\n",
    "\\* 컴퓨터로 해결하기 어려운 문제 : 시간이 매우 많이 필요하거나 메모리 공간이 매우 많이 필요한 문제 \r\n",
    "\r\n",
    "\\* 따라서 우리는 연산속도와 메모리 공간을 최대한으로 활용할 수 있는 효율적인 알고리즘을 작서앻야 함\r\n",
    "\r\n",
    "\\* 다이나믹 프로그래밍 : 메모리 공간을 약간 더 사용하면서 연산 속도를 비약적으로 증가시킬 수 있는 방법 \r\n",
    "\r\n",
    "\\* 다이나믹 프로그래밍으로 해결할 수 있는 대표적인 예시가 피보나치 수열"
   ],
   "metadata": {}
  },
  {
   "cell_type": "code",
   "execution_count": 8,
   "source": [
    "def fibo(x) : \r\n",
    "    if x==1 or x==2 : \r\n",
    "        return 1\r\n",
    "    return fibo(x-1)+fibo(x-2) \r\n",
    "print(fibo(10))\r\n"
   ],
   "outputs": [
    {
     "output_type": "stream",
     "name": "stdout",
     "text": [
      "55\n"
     ]
    }
   ],
   "metadata": {}
  },
  {
   "cell_type": "markdown",
   "source": [
    "\\* 위처럼 소스코드를 작성하면 f(n) 함수에서 n이 커질수록 수행 시간이 기하급수적으로 늘어남.\r\n",
    "\r\n",
    "\\* 빅오 표기법을 이용하여 O(2^n)의 지수 시간이 소요된다고 표현 \r\n",
    "\r\n",
    "\\* 왜냐하면, f(n)에서 n이 커질수록 반복해서 호출하는 수가 많아지기 때문. \r\n",
    "\r\n",
    "\\* 피보나치 수열의 점화식을 재귀 함수를 사용해 만들 수는 있지만, 단순히 매번 계산하도록 하면 문제를 효율적으로 해결할 수 없음\r\n",
    "\r\n",
    "\\* 이러한 문제는 다이나믹 프로그래밍을 사용하면 효율적으로 해결 가능"
   ],
   "metadata": {}
  },
  {
   "cell_type": "markdown",
   "source": [
    "- 다이나믹 프로그래밍 사용 조건\r\n",
    "    - 큰 문제를 작은 문제로 나눌 수 있다.\r\n",
    "    - 작은 문제에서 구한 정답은 그것을 포함하는 큰 문제에서도 동일하다"
   ],
   "metadata": {}
  },
  {
   "cell_type": "markdown",
   "source": [
    "\\* 메모제이션 : 한 번 구한 결과를 메모리 공간에 메모해두고 같은 식을 다시 호출하며 메모한 결과를 그대로 가져오는 기법"
   ],
   "metadata": {}
  },
  {
   "cell_type": "code",
   "execution_count": 12,
   "source": [
    "# 피보나치 수열 코드 (재귀적)\r\n",
    "d = [0] *100\r\n",
    "\r\n",
    "def fibo(x) : \r\n",
    "    if x==1 or x==2 : \r\n",
    "        return 1\r\n",
    "    if d[x] != 0 : \r\n",
    "        return d[x]\r\n",
    "    d[x] = fibo(x-1) + fibo(x-2)\r\n",
    "    return d[x]\r\n",
    "print(fibo(99))\r\n"
   ],
   "outputs": [
    {
     "output_type": "stream",
     "name": "stdout",
     "text": [
      "218922995834555169026\n"
     ]
    }
   ],
   "metadata": {}
  },
  {
   "cell_type": "markdown",
   "source": [
    "\\* 다이나믹 프로그래밍 : 큰 문제를 작게 나누고, 같은 문제라면 한 번씩만 풀어 문제를 효율적으로 해결하는 알고리즘 기법 \r\n",
    "\r\n",
    "\\* 일반적으로 반복문을 이용하면 오베헤드를 줄일 수 있으므로, 성능이 더 좋다\r\n",
    "\r\n",
    "\\* 다이나믹 프로그래밍을 적용했을 때의 핍조나치 수열 알고리즘의 시간 복잡도는 O(N)이다.\r\n",
    "\r\n",
    "\\* 탑 다운 방식 : 큰 문제를 해결하기 위해 작은 문제를 호출하는 방식 (메모제이션)\r\n",
    "\r\n",
    "\\* 바텀 업 방식 : 작은 문제부터 차근차근 답을 도출하는 방식 (반복문 이용)"
   ],
   "metadata": {}
  },
  {
   "cell_type": "code",
   "execution_count": 14,
   "source": [
    "d = [0]*100\r\n",
    "\r\n",
    "d[1] = 1\r\n",
    "d[2] = 1 \r\n",
    "n = 99\r\n",
    "\r\n",
    "for i in range(3,n+1) : \r\n",
    "    d[i] = d[i-1] + d[i-2]\r\n",
    "\r\n",
    "print(d[n])"
   ],
   "outputs": [
    {
     "output_type": "stream",
     "name": "stdout",
     "text": [
      "218922995834555169026\n"
     ]
    }
   ],
   "metadata": {}
  },
  {
   "cell_type": "markdown",
   "source": [
    "### 코딩테스트\r\n",
    "\r\n",
    "\\* 코딩 테스트에서의 다이나믹 프로그ㄹ밍 문제는 대체로 간단한 형태로 출제\r\n",
    "\r\n",
    "\\* 따라서, 이 책에서 다루는 문제정도만 바르게 습득해도 코딩 테스트에서 문제를 풀기에는 큰 어려움 X\r\n",
    "\r\n",
    "\\* 문제를 푸는 첫 번째 단계는 주어진 문제가 다이나믹 프로그래밍 유형임을 파악하는 것\r\n",
    "\r\n",
    "\\* 특정한 문제를 완전 탐색 알고리즘으로 접근했을 때 시간이 매우 오래 걸리면, 다이나믹 프로그래밍을 적용할 수 있는지 확인.\r\n",
    "\r\n",
    "\\* 또한 가능하다면 재귀함수를 이용하는 탑다운 방식보다는 보텀업 방식으로 구현하는 것을 권장"
   ],
   "metadata": {}
  },
  {
   "cell_type": "markdown",
   "source": [
    "## 2. 1로 만들기"
   ],
   "metadata": {}
  },
  {
   "cell_type": "code",
   "execution_count": 44,
   "source": [
    "# 내가 작성한 코드\r\n",
    "# 문제점 : 연산을 작동하기는 하나 최단 아웃풋 값이 최단 연산 횟수가 아님. \r\n",
    "number = int(input())\r\n",
    "count = 0\r\n",
    "def calculation(number,count) : \r\n",
    "    if number == 1 :\r\n",
    "        return count\r\n",
    "    else : \r\n",
    "        if number%5 == 0 :\r\n",
    "            return calculation(number // 5,count+1)\r\n",
    "        elif number%3 == 0 :\r\n",
    "            return calculation(number // 3,count+1)\r\n",
    "        elif number%2 == 0 :\r\n",
    "            return calculation(number // 2,count+1)\r\n",
    "        else : \r\n",
    "            return calculation(number-1,count+1)\r\n",
    "print(calculation(number,count))"
   ],
   "outputs": [
    {
     "output_type": "stream",
     "name": "stdout",
     "text": [
      "5\n"
     ]
    }
   ],
   "metadata": {}
  },
  {
   "cell_type": "code",
   "execution_count": 54,
   "source": [
    "# 책 답안 소스코드\r\n",
    "\r\n",
    "x = int(input())\r\n",
    "\r\n",
    "d = [0] * 30001\r\n",
    "\r\n",
    "# 전체적인 경우의 수 산출 방법 : \r\n",
    "# 1로 빼는 경우, 2,3,5로 나누는 경우를 계산하고, 가장 작은 경우의 수를 d[i]에 저장. \r\n",
    "# 나누어 떨어지는 경우, 미리 수행했던 결과에서 +1을 더하는 방식으로 연산 횟수를 계산. \r\n",
    "# \r\n",
    "\r\n",
    "for i in range(2,x+1) : \r\n",
    "    # 현재의 수에서 1을 빼는 경우\r\n",
    "    d[i] = d[i-1]+1\r\n",
    "    # 현재의 수가 2로 나누어 떨어지는 경우\r\n",
    "    if i%2 == 0 :\r\n",
    "        d[i] = min(d[i],d[i//2]+1)\r\n",
    "    # 현재의 수가 3로 나누어 떨어지는 경우\r\n",
    "    if i%3 == 0 :\r\n",
    "        d[i] = min(d[i],d[i//3]+1)\r\n",
    "    # 현재의 수가 5로 나누어 떨어지는 경우\r\n",
    "    if i%5 == 0 :\r\n",
    "        d[i] = min(d[i],d[i//5]+1)\r\n",
    "    \r\n",
    "print(d[x])"
   ],
   "outputs": [
    {
     "output_type": "stream",
     "name": "stdout",
     "text": [
      "3\n"
     ]
    }
   ],
   "metadata": {}
  },
  {
   "cell_type": "markdown",
   "source": [
    "## 3. 개미 전사"
   ],
   "metadata": {}
  },
  {
   "cell_type": "code",
   "execution_count": 67,
   "source": [
    "## 책 소스 코드\r\n",
    "N = int(input())\r\n",
    "array = list(map(int,input().split()))\r\n",
    "\r\n",
    "d = [0]*(N)\r\n",
    "\r\n",
    "# 다이나믹 프로그래밍 진행 (보텀업)\r\n",
    "d[0] = array[0]\r\n",
    "d[1] = max(array[0],array[1])\r\n",
    "\r\n",
    "for i in range(2,N) : \r\n",
    "    d[i] = max(d[i-1],d[i-2]+array[i])\r\n",
    "\r\n",
    "print(d[N-1])"
   ],
   "outputs": [
    {
     "output_type": "stream",
     "name": "stdout",
     "text": [
      "8\n"
     ]
    }
   ],
   "metadata": {}
  },
  {
   "cell_type": "markdown",
   "source": [
    "## 4. 바닥 공사\r\n",
    "\r\n",
    "\\* 사용 가능한 최대 타일의 개수가 2x2 크기 \r\n",
    "\r\n",
    "\\* 따라서, 타일을 덮는 경우의 수는 2개가 존재\r\n",
    "\r\n",
    "\\* N-1까지 타일이 덮여 있는 경우는 2 X 1 타일 1개 \r\n",
    "\r\n",
    "\\* N-2까지 타일이 덮여 있는 경우는 2 X 2 타일 1개 or 1 X 2 타일2개, 즉 경우의 수 2개 존재.\r\n",
    "\r\n",
    "\\* 따라서, a_i = a_i-1 + a_i-2 * 2 \r\n"
   ],
   "metadata": {}
  },
  {
   "cell_type": "code",
   "execution_count": 79,
   "source": [
    "# 책 소스코드\r\n",
    "# 사용 가능한 최대 타일의 개수가 2x2 크기 \r\n",
    "# 따라서, 타일을 덮는 경우의 수는 2개가 곶내\r\n",
    "\r\n",
    "N = int(input())\r\n",
    "\r\n",
    "d = [0]*1001\r\n",
    "\r\n",
    "d[1] = 1\r\n",
    "d[2] = 3\r\n",
    "\r\n",
    "for i in range(3,N+1) : \r\n",
    "    d[i] = (d[i-1]+2*d[i-2])%796796\r\n",
    "\r\n",
    "print(d[N])"
   ],
   "outputs": [
    {
     "output_type": "stream",
     "name": "stdout",
     "text": [
      "5\n"
     ]
    }
   ],
   "metadata": {}
  },
  {
   "cell_type": "markdown",
   "source": [
    "## 5. 효율적인 화폐 구성\r\n",
    "\\* N가지 종류의 화폐의 개수를 최소한으로 이용해서 M원이 되도록 함."
   ],
   "metadata": {}
  },
  {
   "cell_type": "code",
   "execution_count": 91,
   "source": [
    "N,M = list(map(int,input().split()))\r\n",
    "array = []\r\n",
    "for i in range(N) : \r\n",
    "    array.append(int(input()))\r\n",
    "\r\n",
    "d = [10001]*(M+1)\r\n",
    "d[0] = 0\r\n",
    "\r\n",
    "for i in range(N) : # i는 사용 가능 동전의 List array의 원소 (최소 단위의 동전부터 확인)\r\n",
    "    for j in range(array[i],M+1) :  # array[i]는 사용 가능 동전의 수\r\n",
    "        if d[j-array[i]] != 10001 : # d[j-array[i]]가 동전으로 표현 가능하다면 \r\n",
    "            d[j] = min(d[j],d[j - array[i]]+1) # d[j-array[i]]+1 = 이전 결과에서 지금의 동전을 더할 때의 경우의 수가 이전 결과보다 작으면 업데이트\r\n",
    "                                               # 예를 들어, 2,3의 동전이 있을 경우 i=0일 때, d[6]=3, but i=1일 때, d[6-3]=1+1=2. 그러므로 2로 업데이트. \r\n",
    "\r\n",
    "if d[M] == 10001 : \r\n",
    "    print(-1)\r\n",
    "else : \r\n",
    "    print(d[M])\r\n"
   ],
   "outputs": [
    {
     "output_type": "stream",
     "name": "stdout",
     "text": [
      "5\n"
     ]
    }
   ],
   "metadata": {}
  }
 ],
 "metadata": {
  "orig_nbformat": 4,
  "language_info": {
   "name": "python",
   "version": "3.7.10",
   "mimetype": "text/x-python",
   "codemirror_mode": {
    "name": "ipython",
    "version": 3
   },
   "pygments_lexer": "ipython3",
   "nbconvert_exporter": "python",
   "file_extension": ".py"
  },
  "kernelspec": {
   "name": "python3",
   "display_name": "Python 3.7.10 64-bit ('deep-learning-20': conda)"
  },
  "interpreter": {
   "hash": "cdb0e1eaeae7d73f15a51853e3837c6ea3c1d6811a1c33886316680ce2998633"
  }
 },
 "nbformat": 4,
 "nbformat_minor": 2
}