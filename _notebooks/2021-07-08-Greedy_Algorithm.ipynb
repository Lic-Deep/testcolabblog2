{
 "cells": [
  {
   "source": [
    "# \"그리디 알고리즘\"\n",
    "> \"주요 알고리즘 이론(3)\"\n",
    "\n",
    "- toc: false\n",
    "- branch: master\n",
    "- badges: true\n",
    "- comments: true\n",
    "- categories: [coding, jupyter]"
   ],
   "cell_type": "markdown",
   "metadata": {}
  },
  {
   "source": [
    "## 1. 당장 좋은 것만 선택하는 그리디\n",
    "- 그리디 : 현재 상황에서 지금 당장 좋은 것만 고르는 방법\n",
    "- 사전에 외우고 있지 않아도 풀 수 있을 가능성이 높은 문제 유형\n",
    "- 특정한 문제를 만났을 때 단순히 현재 상황에서 가장 좋아 보이는 것만을 선택해도 문제를 풀 수 있는지를 파악\n",
    "- 그리디 알고리즘은 기준에 따라 좋은 것을 선택하는 알고리즘이므로 문제에서 '가장 큰 순서대로' , '가장 작은 순서대로'와 같은 기준을 알게 모르게 제시해줌\n",
    "- 대체로 이 기준은 정렬 알고맂므을 사용했을 때 만족시킬 수 있으므로, 그리디 알고리즘 문제는 자주 정렬 알고리즘과 짝을 이뤄 출제\n",
    "- 어떤 문제를 만났을 때, 바로 문제 유형을 파악하기 어렵다면 그리디 알고리즘을 의심하고, 문제를 해결할 수 있는 탐욕적인 해결법이 존재하는지 고민"
   ],
   "cell_type": "markdown",
   "metadata": {}
  },
  {
   "source": [
    "## 2. 큰 수의 법칙 \n",
    "- 배열의 수를 최대 k번 연속해서 더할 수 있을 때, M번 더했을 때 가장 큰 수를 산출하는 문제"
   ],
   "cell_type": "markdown",
   "metadata": {}
  },
  {
   "cell_type": "code",
   "execution_count": 10,
   "metadata": {},
   "outputs": [
    {
     "output_type": "stream",
     "name": "stdout",
     "text": [
      "46\n"
     ]
    }
   ],
   "source": [
    "# 큰수의 법칙 내가 작성한 코드\n",
    "m,n,k = map(int,input().split())\n",
    "N = list(map(int,input().split()))\n",
    "N.sort()\n",
    "A = n%(k+1)\n",
    "B = n//(k+1)\n",
    "sum = N[-1]*(B)*k + N[-2]*B + N[-1]*(A)\n",
    "print(sum)\n",
    "# 오 내가 작성한 코드가 더 효율적인 코드쓰 "
   ]
  },
  {
   "cell_type": "code",
   "execution_count": null,
   "metadata": {},
   "outputs": [],
   "source": [
    "# 책 예시 코드\n",
    "n,m,k = map(int,input().split())\n",
    "data = list(map(int,input().split()))\n",
    "\n",
    "data.sort()\n",
    "first = data[-1]\n",
    "second = data[-2]\n",
    "\n",
    "result = 0\n",
    "while True : \n",
    "    for i in range(k) : \n",
    "        if m == 0 :\n",
    "            break\n",
    "        result += first\n",
    "        m -= 1\n",
    "    if m == 0 :\n",
    "        break\n",
    "    result += second\n",
    "    m -= 1\n",
    "print(result)\n"
   ]
  },
  {
   "source": [
    "## 3. 숫자 카드 게임\n",
    "- N X M 배열의 숫자 카드 배열 존재\n",
    "- 각 행에서 가장 작은 수를 뽑을 때, 가장 큰 수를 뽑았을 때의 숫자를 산출\n",
    "- 즉, 각 행의 최솟 값 중 최댓값을 산출하는 문제"
   ],
   "cell_type": "markdown",
   "metadata": {}
  },
  {
   "cell_type": "code",
   "execution_count": 15,
   "metadata": {},
   "outputs": [],
   "source": [
    "# 카드 게임 내가 작성한 코드\n",
    "M,N = map(int,input().split())\n",
    "array = []\n",
    "for i in range(M) : \n",
    "  array.append(min(list(map(int,input().split()))))\n",
    "print(max(array))\n",
    "\n",
    "## 약간 그리디 적으로 ?\n",
    "M,N = map(int,input().split())\n",
    "array = []\n",
    "for i in range(M) : \n",
    "  array.append(list(map(int,input().split())))\n",
    "for i in range(M) : \n",
    "  if i == 0 : \n",
    "    num = min(array[i])\n",
    "  else : \n",
    "    candidate = min(array[i])\n",
    "    if num < candidate : \n",
    "      num = candidate\n",
    "print(num)"
   ]
  },
  {
   "source": [
    "## 4. 1이 될때까지\n",
    "- 1이 될 때 까지 N에서 1을 빼던가, N에서 k를 나누어 줌\n",
    "- 1을 만들 때 까지 최소 반복 횟수를 산출"
   ],
   "cell_type": "markdown",
   "metadata": {}
  },
  {
   "cell_type": "code",
   "execution_count": null,
   "metadata": {},
   "outputs": [],
   "source": [
    "# 1이 될때까지 내가 작성한 코드 , 매 Step마다 1을 빼주므로 조금 비효율적\n",
    "M, N = map(int,input().split())\n",
    "count = 0\n",
    "while True : \n",
    "  if M == 1 : \n",
    "    break\n",
    "  if M%N == 0 :\n",
    "    M = M/N\n",
    "  else : \n",
    "    M -= 1\n",
    "  count +=1\n",
    "print(count)"
   ]
  },
  {
   "cell_type": "code",
   "execution_count": null,
   "metadata": {
    "scrolled": true
   },
   "outputs": [],
   "source": [
    "# N이 k의 배수가 되도록 효율적으로 한 번에 빼는 방식으로 소스코드를 작성할 수 있음\n",
    "M, N = map(int,input().split())\n",
    "count = 0\n",
    "while True : \n",
    "  if M%N == 0 :\n",
    "    M = M/N\n",
    "    count +=1\n",
    "  else : \n",
    "    minus_num = M%N\n",
    "    M -= minus_num\n",
    "    count += minus_num\n",
    "    if M == 1 : \n",
    "        break\n",
    "print(count)"
   ]
  },
  {
   "cell_type": "code",
   "execution_count": null,
   "metadata": {},
   "outputs": [],
   "source": [
    "n,k = map(int,input().split())\n",
    "result = 0 \n",
    "\n",
    "while True : \n",
    "    target = (n//k)*k\n",
    "    result += (n-target)\n",
    "    if n<k :\n",
    "        break\n",
    "    result +=1\n",
    "    n //= k \n",
    "\n",
    "resuult += (n-1)\n",
    "print(result)"
   ]
  }
 ],
 "metadata": {
  "kernelspec": {
   "name": "python3",
   "display_name": "Python 3.8.5 64-bit ('base': conda)"
  },
  "language_info": {
   "codemirror_mode": {
    "name": "ipython",
    "version": 3
   },
   "file_extension": ".py",
   "mimetype": "text/x-python",
   "name": "python",
   "nbconvert_exporter": "python",
   "pygments_lexer": "ipython3",
   "version": "3.8.5"
  },
  "interpreter": {
   "hash": "c5f11a010937bc40e59ff680a031634e4727ca6def69881eda5bf4731e81bf33"
  }
 },
 "nbformat": 4,
 "nbformat_minor": 2
}